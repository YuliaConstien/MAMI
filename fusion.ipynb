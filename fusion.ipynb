{
 "nbformat": 4,
 "nbformat_minor": 0,
 "metadata": {
  "colab": {
   "name": "fusion (1).ipynb",
   "provenance": []
  },
  "kernelspec": {
   "name": "python3",
   "display_name": "Python 3"
  },
  "language_info": {
   "name": "python"
  },
  "accelerator": "GPU"
 },
 "cells": [
  {
   "cell_type": "code",
   "source": [
    "import pandas as pd\n",
    "import torch\n",
    "from sklearn.metrics import f1_score"
   ],
   "metadata": {
    "id": "uMths5ixv83D"
   },
   "execution_count": 1,
   "outputs": []
  },
  {
   "cell_type": "code",
   "source": [
    "device = torch.device('cuda' if torch.cuda.is_available() else 'cpu')"
   ],
   "metadata": {
    "id": "SnCkWWES8WbD"
   },
   "execution_count": 2,
   "outputs": []
  },
  {
   "cell_type": "markdown",
   "source": [
    "# Import Data"
   ],
   "metadata": {
    "id": "03e1SRO4wajT"
   }
  },
  {
   "cell_type": "code",
   "source": [
    "import pickle as pkl\n",
    "import numpy as np\n",
    "\n",
    "fileName = \"text_output.pkl\"\n",
    "fileObject = open(fileName, 'rb')\n",
    "text_output = pkl.load(fileObject)\n",
    "fileObject.close()"
   ],
   "metadata": {
    "id": "2ZWCbL3ctX7Z"
   },
   "execution_count": 3,
   "outputs": []
  },
  {
   "cell_type": "code",
   "execution_count": null,
   "outputs": [],
   "source": [
    "\n",
    "fileName = \"cnn_output.pkl\"\n",
    "fileObject = open(fileName, 'rb')\n",
    "cnn_output = pkl.load(fileObject).detach().cpu().numpy()\n",
    "fileObject.close()"
   ],
   "metadata": {
    "collapsed": false,
    "pycharm": {
     "name": "#%%\n"
    }
   }
  },
  {
   "cell_type": "code",
   "execution_count": 21,
   "outputs": [],
   "source": [
    "label_df = pd.read_csv(\"../data/test_labels.txt\", sep=\"\\t\", header=None) # Put your path to test_label.txt here\n",
    "label =  label_df[1].to_numpy()"
   ],
   "metadata": {
    "collapsed": false,
    "pycharm": {
     "name": "#%%\n"
    }
   }
  },
  {
   "cell_type": "markdown",
   "source": [
    "# Fusion"
   ],
   "metadata": {
    "id": "EnFJYqWfynhf"
   }
  },
  {
   "cell_type": "code",
   "source": [
    "fusion_output = text_output|cnn_output"
   ],
   "metadata": {
    "id": "NBPv5OB8ym3o"
   },
   "execution_count": 13,
   "outputs": []
  },
  {
   "cell_type": "markdown",
   "source": [
    "# F1 Scores"
   ],
   "metadata": {
    "id": "hla_brXtwiVL"
   }
  },
  {
   "cell_type": "markdown",
   "source": [
    "## CNN"
   ],
   "metadata": {
    "id": "9MWXU32jwmA5"
   }
  },
  {
   "cell_type": "code",
   "source": [
    "f1_score_cnn = f1_score(label,cnn_output)\n",
    "f1_score_cnn"
   ],
   "metadata": {
    "id": "c49hb-9Owowu",
    "colab": {
     "base_uri": "https://localhost:8080/"
    },
    "outputId": "d36d812c-5baa-4159-f5aa-5c57314e665d"
   },
   "execution_count": 25,
   "outputs": [
    {
     "output_type": "execute_result",
     "data": {
      "text/plain": [
       "0.623175965665236"
      ]
     },
     "metadata": {},
     "execution_count": 25
    }
   ]
  },
  {
   "cell_type": "markdown",
   "source": [
    "## NN\n"
   ],
   "metadata": {
    "id": "UwKI-50xyalH"
   }
  },
  {
   "cell_type": "code",
   "source": [
    "f1_score_cnn = f1_score(label,text_output)\n",
    "f1_score_cnn"
   ],
   "metadata": {
    "id": "JSUD3RXjyYAZ",
    "colab": {
     "base_uri": "https://localhost:8080/"
    },
    "outputId": "1faf873b-486f-4f0f-dcb6-0d7c1f710e6d"
   },
   "execution_count": 26,
   "outputs": [
    {
     "output_type": "execute_result",
     "data": {
      "text/plain": [
       "0.6786941580756013"
      ]
     },
     "metadata": {},
     "execution_count": 26
    }
   ]
  },
  {
   "cell_type": "markdown",
   "source": [
    "## Fusion"
   ],
   "metadata": {
    "id": "_inf7kOvy6Lv"
   }
  },
  {
   "cell_type": "code",
   "source": [
    "(fusion_output==label).sum()*100/fusion_output.size"
   ],
   "metadata": {
    "colab": {
     "base_uri": "https://localhost:8080/"
    },
    "id": "A31M2NmlzJks",
    "outputId": "ac7fe6f9-f55c-4e51-c44e-4dbd423c5043"
   },
   "execution_count": 27,
   "outputs": [
    {
     "output_type": "execute_result",
     "data": {
      "text/plain": [
       "56.6"
      ]
     },
     "metadata": {},
     "execution_count": 27
    }
   ]
  },
  {
   "cell_type": "code",
   "source": [
    "f1_score_cnn = f1_score(label,fusion_output)\n",
    "f1_score_cnn"
   ],
   "metadata": {
    "id": "vZZVHiXSykfX",
    "colab": {
     "base_uri": "https://localhost:8080/"
    },
    "outputId": "fbabdce7-b778-4392-8934-19f468bfdce1",
    "pycharm": {
     "name": "#%%\n"
    }
   },
   "execution_count": 28,
   "outputs": [
    {
     "output_type": "execute_result",
     "data": {
      "text/plain": [
       "0.6836734693877551"
      ]
     },
     "metadata": {},
     "execution_count": 28
    }
   ]
  }
 ]
}