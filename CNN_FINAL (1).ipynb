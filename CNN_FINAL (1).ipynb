{
  "nbformat": 4,
  "nbformat_minor": 0,
  "metadata": {
    "colab": {
      "name": "CNN_FINAL.ipynb",
      "provenance": [],
      "collapsed_sections": []
    },
    "kernelspec": {
      "name": "python3",
      "display_name": "Python 3"
    },
    "language_info": {
      "name": "python"
    },
    "accelerator": "GPU"
  },
  "cells": [
    {
      "cell_type": "code",
      "execution_count": 71,
      "metadata": {
        "id": "7e4amnQmytHi"
      },
      "outputs": [],
      "source": [
        "#Import libraries\n",
        "import torch\n",
        "import torchvision\n",
        "import torchvision.transforms as transforms\n",
        "from torchvision import transforms\n",
        "import pandas as pd\n",
        "from PIL import Image\n",
        "import os\n",
        "from tqdm import tqdm\n",
        "import zipfile \n",
        "import torch.nn as nn\n",
        "import torch.nn.functional as F\n",
        "from torch.utils.data import Dataset, DataLoader\n",
        "import numpy as np\n",
        "from sklearn.model_selection import train_test_split\n",
        "from sklearn.metrics import f1_score \n",
        "import pickle as pkl\n"
      ]
    },
    {
      "cell_type": "code",
      "source": [
        "device = torch.device('cuda:0')"
      ],
      "metadata": {
        "id": "TKwn5YR3y1hU"
      },
      "execution_count": 3,
      "outputs": []
    },
    {
      "cell_type": "code",
      "source": [
        "from google.colab import drive\n",
        "drive.mount('/content/drive')"
      ],
      "metadata": {
        "colab": {
          "base_uri": "https://localhost:8080/"
        },
        "id": "PPxbfuayy5u5",
        "outputId": "b1f90de3-e35e-4d89-cdea-e242b7f37052"
      },
      "execution_count": 72,
      "outputs": [
        {
          "output_type": "stream",
          "name": "stdout",
          "text": [
            "Drive already mounted at /content/drive; to attempt to forcibly remount, call drive.mount(\"/content/drive\", force_remount=True).\n"
          ]
        }
      ]
    },
    {
      "cell_type": "code",
      "source": [
        "#Upload dataset\n",
        "\n",
        "df_training = pd.read_csv('drive/MyDrive/training.csv', sep=\"\\t\")\n",
        "df_test = pd.read_csv('drive/MyDrive/trial.csv', sep=\"\\t\")"
      ],
      "metadata": {
        "id": "tVibVoPay8DA"
      },
      "execution_count": 18,
      "outputs": []
    },
    {
      "cell_type": "code",
      "source": [
        "#CNN Model\n",
        "\n",
        "class Binary_Classifier(nn.Module):\n",
        "    def __init__(self):\n",
        "        super(Binary_Classifier, self).__init__()\n",
        "        self.conv1 = nn.Conv2d(in_channels=3, out_channels=10, kernel_size=3)\n",
        "        self.conv2 = nn.Conv2d(10, 20, kernel_size=3)\n",
        "        self.conv2_drop = nn.Dropout2d()\n",
        "        self.fc1 = nn.Linear(58320, 1024)\n",
        "        self.fc2 = nn.Linear(1024, 2)\n",
        "\n",
        "    def forward(self, x):\n",
        "        x = F.relu(F.max_pool2d(self.conv1(x), 2))\n",
        "        x = F.relu(F.max_pool2d(self.conv2(x),2))\n",
        "        x = x.view(x.shape[0],-1)\n",
        "        x = F.relu(self.fc1(x))\n",
        "        x = self.fc2(x)\n",
        "        return x\n",
        "\n",
        "#hyper parameters\n",
        "\n",
        "learning_rate = 0.01\n",
        "\n",
        "# Initialize Model , Optimizer, Loss\n",
        "\n",
        "model = Binary_Classifier().to(device)\n",
        "loss_fn = nn.CrossEntropyLoss()\n",
        "optimizer = torch.optim.Adam(model.parameters(), lr=0.001, weight_decay=0.0005)"
      ],
      "metadata": {
        "id": "Gtvs-aVa0lda"
      },
      "execution_count": 7,
      "outputs": []
    },
    {
      "cell_type": "code",
      "source": [
        "# Due to the large input, the model is being trained in steps to avoid memory collapsing. It has been trained on the trial and training dataset.\n",
        "\n",
        "#For the training set\n",
        "\n",
        "steps = 10\n",
        "step_training=int(df_training.shape[0]/steps)\n",
        "step_test=int(df_test.shape[0]/steps)\n",
        "\n",
        "for step in range(steps):\n",
        "  input_training = []\n",
        "  label_training = []\n",
        "  img_zip = zipfile.ZipFile('drive/MyDrive/training.zip')\n",
        "  img_zip.setpassword(b'*MaMiSemEval2022!')\n",
        "\n",
        "  for i, row in tqdm(df_training.iloc[step_training*(step):step_training*(step+1)].iterrows()):\n",
        "      try:\n",
        "          filename = row['file_name']\n",
        "          convert_tensor = transforms.Compose([\n",
        "          transforms.Resize((224, 224)),\n",
        "          transforms.ToTensor()\n",
        "      ])\n",
        "          img = Image.open(img_zip.open('TRAINING/' + filename)) \n",
        "          #img = img.resize((39, 39), Image.ANTIALIAS)\n",
        "          tensor=convert_tensor(img)\n",
        "          if tensor.shape[0] == 3:\n",
        "              input_training.append(tensor)\n",
        "              label_training.append(torch.tensor(row['misogynous'],dtype=torch.long))\n",
        "      except:\n",
        "          print('........................')\n",
        "          continue\n",
        "\n",
        "  #For the trial set\n",
        "  \n",
        "  img_zip = zipfile.ZipFile('drive/MyDrive/trial.zip')\n",
        "  img_zip.setpassword(b'*MaMiSemEval2022!')\n",
        "  for i, row in tqdm(df_test.iloc[step_test*step:step_test*(step+1)].iterrows()):\n",
        "      try:\n",
        "          filename = row['file_name']\n",
        "          convert_tensor = transforms.Compose([\n",
        "          transforms.Resize((224, 224)),\n",
        "          transforms.ToTensor()\n",
        "      ])\n",
        "          img = Image.open(img_zip.open('Users/fersiniel/Desktop/MAMI - TO LABEL/TRIAL DATASET/' + filename)) \n",
        "          #img = img.resize((39, 39), Image.ANTIALIAS)\n",
        "          tensor=convert_tensor(img)\n",
        "          if tensor.shape[0] == 3:\n",
        "              input_training.append(tensor)\n",
        "              label_training.append(torch.tensor(row['misogynous'],dtype=torch.long))\n",
        "      except Exception as E:\n",
        "          \n",
        "          print(E)\n",
        "          continue\n",
        "\n",
        "  train_tensor = torch.stack(input_training,0).to(device=device) \n",
        "  label_tensor = torch.stack(label_training,0).to(device=device)\n",
        "  del input_training, label_training\n",
        "  input, input_t, label, label_t = train_test_split(train_tensor, label_tensor, test_size=0.2)\n",
        "  del train_tensor, label_tensor\n",
        "\n",
        "  \n",
        "  class dataset(Dataset):\n",
        "    def __init__(self,x,y):\n",
        "      self.x = x\n",
        "      self.y = y\n",
        "      self.length = self.x.shape[0]\n",
        "\n",
        "    def __getitem__(self,idx):\n",
        "      return self.x[idx],self.y[idx]\n",
        "    def __len__(self):\n",
        "      return self.length\n",
        "  trainset = dataset(input, label)\n",
        " \n",
        "  #DataLoader\n",
        "  \n",
        "  trainloader = DataLoader(trainset,batch_size=32,shuffle=True)\n",
        "\n",
        "\n",
        "  #forward loop\n",
        " \n",
        "  losses = []\n",
        "  accur = []\n",
        "  epochs = 5\n",
        "  for i in tqdm(range(epochs)):\n",
        "      for j,(x_train,y_train) in enumerate(trainloader):\n",
        "\n",
        "          #calculate output\n",
        "         \n",
        "          output = model(x_train)\n",
        "\n",
        "          #calculate loss\n",
        "          #loss = loss_fn(output,y_train.reshape(-1,1))\n",
        "          \n",
        "          loss = loss_fn(output.reshape(-1,2),y_train)\n",
        "\n",
        "\n",
        "          #backprop\n",
        "          \n",
        "          optimizer.zero_grad()\n",
        "          loss.backward()\n",
        "          optimizer.step()\n",
        "          \n",
        "          #accuracy\n",
        "          \n",
        "          if j%10 == 0:\n",
        "              with torch.no_grad():\n",
        "                  losses.append(loss)\n",
        "                  acc =(label == torch.argmax(model(input),dim=1)).sum()/label.size()[0]\n",
        "                  acc_t = (label_t == torch.argmax(model(input_t),dim=1)).sum()/label_t.size()[0]\n",
        "                  accur.append(acc)\n",
        "                  print(f\"\\nstep: {step}, epoch {i}, loss : {loss}, training accuracy : {acc}, test accuracy : {acc_t}\")"
      ],
      "metadata": {
        "colab": {
          "base_uri": "https://localhost:8080/"
        },
        "id": "abpE4Jq7y-31",
        "outputId": "f70355d7-cb83-4704-f449-8e016cc2e449"
      },
      "execution_count": 8,
      "outputs": [
        {
          "output_type": "stream",
          "name": "stderr",
          "text": [
            "1000it [00:11, 90.13it/s]\n",
            "10it [00:03,  2.56it/s]\n",
            "  0%|          | 0/5 [00:00<?, ?it/s]"
          ]
        },
        {
          "output_type": "stream",
          "name": "stdout",
          "text": [
            "\n",
            "step: 0, epoch 0, loss : 0.6874208450317383, training accuracy : 0.5284653306007385, test accuracy : 0.49504950642585754\n",
            "\n",
            "step: 0, epoch 0, loss : 0.718193531036377, training accuracy : 0.551980197429657, test accuracy : 0.5990098714828491\n"
          ]
        },
        {
          "output_type": "stream",
          "name": "stderr",
          "text": [
            "\r 20%|██        | 1/5 [00:02<00:08,  2.07s/it]"
          ]
        },
        {
          "output_type": "stream",
          "name": "stdout",
          "text": [
            "\n",
            "step: 0, epoch 0, loss : 0.6663088202476501, training accuracy : 0.608910858631134, test accuracy : 0.5841584205627441\n",
            "\n",
            "step: 0, epoch 1, loss : 0.6272650361061096, training accuracy : 0.6670792102813721, test accuracy : 0.6831682920455933\n",
            "\n",
            "step: 0, epoch 1, loss : 0.5917803049087524, training accuracy : 0.6683168411254883, test accuracy : 0.6485148668289185\n"
          ]
        },
        {
          "output_type": "stream",
          "name": "stderr",
          "text": [
            "\r 40%|████      | 2/5 [00:03<00:05,  1.93s/it]"
          ]
        },
        {
          "output_type": "stream",
          "name": "stdout",
          "text": [
            "\n",
            "step: 0, epoch 1, loss : 0.5152796506881714, training accuracy : 0.7066831588745117, test accuracy : 0.6831682920455933\n",
            "\n",
            "step: 0, epoch 2, loss : 0.5515692830085754, training accuracy : 0.7153465151786804, test accuracy : 0.6584158539772034\n",
            "\n",
            "step: 0, epoch 2, loss : 0.5757017135620117, training accuracy : 0.7388613820075989, test accuracy : 0.5841584205627441\n"
          ]
        },
        {
          "output_type": "stream",
          "name": "stderr",
          "text": [
            "\r 60%|██████    | 3/5 [00:05<00:03,  1.90s/it]"
          ]
        },
        {
          "output_type": "stream",
          "name": "stdout",
          "text": [
            "\n",
            "step: 0, epoch 2, loss : 0.5155146718025208, training accuracy : 0.8094059228897095, test accuracy : 0.6633663177490234\n",
            "\n",
            "step: 0, epoch 3, loss : 0.43998661637306213, training accuracy : 0.7586633563041687, test accuracy : 0.6287128329277039\n",
            "\n",
            "step: 0, epoch 3, loss : 0.3869026005268097, training accuracy : 0.837871253490448, test accuracy : 0.5990098714828491\n"
          ]
        },
        {
          "output_type": "stream",
          "name": "stderr",
          "text": [
            "\r 80%|████████  | 4/5 [00:07<00:01,  1.88s/it]"
          ]
        },
        {
          "output_type": "stream",
          "name": "stdout",
          "text": [
            "\n",
            "step: 0, epoch 3, loss : 0.29081735014915466, training accuracy : 0.6336633563041687, test accuracy : 0.594059407711029\n",
            "\n",
            "step: 0, epoch 4, loss : 0.342775821685791, training accuracy : 0.7611386179924011, test accuracy : 0.5693069100379944\n",
            "\n",
            "step: 0, epoch 4, loss : 0.39463111758232117, training accuracy : 0.9084158539772034, test accuracy : 0.6534653306007385\n"
          ]
        },
        {
          "output_type": "stream",
          "name": "stderr",
          "text": [
            "100%|██████████| 5/5 [00:09<00:00,  1.90s/it]\n"
          ]
        },
        {
          "output_type": "stream",
          "name": "stdout",
          "text": [
            "\n",
            "step: 0, epoch 4, loss : 0.31664586067199707, training accuracy : 0.9133663177490234, test accuracy : 0.7029702663421631\n"
          ]
        },
        {
          "output_type": "stream",
          "name": "stderr",
          "text": [
            "1000it [00:10, 91.15it/s]\n",
            "10it [00:02,  3.45it/s]\n",
            "  0%|          | 0/5 [00:00<?, ?it/s]"
          ]
        },
        {
          "output_type": "stream",
          "name": "stdout",
          "text": [
            "\n",
            "step: 1, epoch 0, loss : 0.49809131026268005, training accuracy : 0.6538461446762085, test accuracy : 0.618811845779419\n",
            "\n",
            "step: 1, epoch 0, loss : 0.5875000953674316, training accuracy : 0.6600496172904968, test accuracy : 0.5841584205627441\n"
          ]
        },
        {
          "output_type": "stream",
          "name": "stderr",
          "text": [
            "\r 20%|██        | 1/5 [00:01<00:06,  1.65s/it]"
          ]
        },
        {
          "output_type": "stream",
          "name": "stdout",
          "text": [
            "\n",
            "step: 1, epoch 0, loss : 0.5392293930053711, training accuracy : 0.7047146558761597, test accuracy : 0.6435643434524536\n",
            "\n",
            "step: 1, epoch 1, loss : 0.5830773115158081, training accuracy : 0.7022332549095154, test accuracy : 0.6336633563041687\n",
            "\n",
            "step: 1, epoch 1, loss : 0.49310410022735596, training accuracy : 0.8250620365142822, test accuracy : 0.6485148668289185\n"
          ]
        },
        {
          "output_type": "stream",
          "name": "stderr",
          "text": [
            "\r 40%|████      | 2/5 [00:03<00:05,  1.77s/it]"
          ]
        },
        {
          "output_type": "stream",
          "name": "stdout",
          "text": [
            "\n",
            "step: 1, epoch 1, loss : 0.4664996564388275, training accuracy : 0.844913125038147, test accuracy : 0.6881188154220581\n",
            "\n",
            "step: 1, epoch 2, loss : 0.36521679162979126, training accuracy : 0.8424317836761475, test accuracy : 0.7079207897186279\n",
            "\n",
            "step: 1, epoch 2, loss : 0.3342471420764923, training accuracy : 0.8870967626571655, test accuracy : 0.698019802570343\n"
          ]
        },
        {
          "output_type": "stream",
          "name": "stderr",
          "text": [
            "\r 60%|██████    | 3/5 [00:05<00:03,  1.82s/it]"
          ]
        },
        {
          "output_type": "stream",
          "name": "stdout",
          "text": [
            "\n",
            "step: 1, epoch 2, loss : 0.37659305334091187, training accuracy : 0.9205955266952515, test accuracy : 0.6782178282737732\n",
            "\n",
            "step: 1, epoch 3, loss : 0.24142679572105408, training accuracy : 0.9466500878334045, test accuracy : 0.6584158539772034\n",
            "\n",
            "step: 1, epoch 3, loss : 0.18409360945224762, training accuracy : 0.9602977633476257, test accuracy : 0.7029702663421631\n"
          ]
        },
        {
          "output_type": "stream",
          "name": "stderr",
          "text": [
            "\r 80%|████████  | 4/5 [00:07<00:01,  1.84s/it]"
          ]
        },
        {
          "output_type": "stream",
          "name": "stdout",
          "text": [
            "\n",
            "step: 1, epoch 3, loss : 0.274869441986084, training accuracy : 0.9640198349952698, test accuracy : 0.7079207897186279\n",
            "\n",
            "step: 1, epoch 4, loss : 0.11168383061885834, training accuracy : 0.9789081811904907, test accuracy : 0.618811845779419\n",
            "\n",
            "step: 1, epoch 4, loss : 0.16647574305534363, training accuracy : 0.9702233076095581, test accuracy : 0.6336633563041687\n"
          ]
        },
        {
          "output_type": "stream",
          "name": "stderr",
          "text": [
            "100%|██████████| 5/5 [00:09<00:00,  1.82s/it]\n"
          ]
        },
        {
          "output_type": "stream",
          "name": "stdout",
          "text": [
            "\n",
            "step: 1, epoch 4, loss : 0.10325861722230911, training accuracy : 0.9863523244857788, test accuracy : 0.6831682920455933\n"
          ]
        },
        {
          "output_type": "stream",
          "name": "stderr",
          "text": [
            "1000it [00:10, 97.55it/s]\n",
            "10it [00:02,  4.13it/s]\n",
            "  0%|          | 0/5 [00:00<?, ?it/s]"
          ]
        },
        {
          "output_type": "stream",
          "name": "stdout",
          "text": [
            "\n",
            "step: 2, epoch 0, loss : 1.3869091272354126, training accuracy : 0.6256218552589417, test accuracy : 0.5920397639274597\n",
            "\n",
            "step: 2, epoch 0, loss : 0.6162548065185547, training accuracy : 0.7089552283287048, test accuracy : 0.5820895433425903\n"
          ]
        },
        {
          "output_type": "stream",
          "name": "stderr",
          "text": [
            "\r 20%|██        | 1/5 [00:01<00:06,  1.64s/it]"
          ]
        },
        {
          "output_type": "stream",
          "name": "stdout",
          "text": [
            "\n",
            "step: 2, epoch 0, loss : 0.6426252126693726, training accuracy : 0.746268630027771, test accuracy : 0.6169154047966003\n",
            "\n",
            "step: 2, epoch 1, loss : 0.5215330123901367, training accuracy : 0.7487562298774719, test accuracy : 0.6218905448913574\n",
            "\n",
            "step: 2, epoch 1, loss : 0.5579824447631836, training accuracy : 0.7935323119163513, test accuracy : 0.6218905448913574\n"
          ]
        },
        {
          "output_type": "stream",
          "name": "stderr",
          "text": [
            "\r 40%|████      | 2/5 [00:03<00:05,  1.77s/it]"
          ]
        },
        {
          "output_type": "stream",
          "name": "stdout",
          "text": [
            "\n",
            "step: 2, epoch 1, loss : 0.38552284240722656, training accuracy : 0.7947760820388794, test accuracy : 0.6368159055709839\n",
            "\n",
            "step: 2, epoch 2, loss : 0.48049211502075195, training accuracy : 0.8557213544845581, test accuracy : 0.6368159055709839\n",
            "\n",
            "step: 2, epoch 2, loss : 0.33349063992500305, training accuracy : 0.8781094551086426, test accuracy : 0.6318407654762268\n"
          ]
        },
        {
          "output_type": "stream",
          "name": "stderr",
          "text": [
            "\r 60%|██████    | 3/5 [00:05<00:03,  1.81s/it]"
          ]
        },
        {
          "output_type": "stream",
          "name": "stdout",
          "text": [
            "\n",
            "step: 2, epoch 2, loss : 0.8030335307121277, training accuracy : 0.9141790866851807, test accuracy : 0.6716417670249939\n",
            "\n",
            "step: 2, epoch 3, loss : 0.1691068857908249, training accuracy : 0.9527363181114197, test accuracy : 0.6268656849861145\n",
            "\n",
            "step: 2, epoch 3, loss : 0.1975727528333664, training accuracy : 0.9502487182617188, test accuracy : 0.6517412662506104\n"
          ]
        },
        {
          "output_type": "stream",
          "name": "stderr",
          "text": [
            "\r 80%|████████  | 4/5 [00:07<00:01,  1.83s/it]"
          ]
        },
        {
          "output_type": "stream",
          "name": "stdout",
          "text": [
            "\n",
            "step: 2, epoch 3, loss : 0.2415233701467514, training accuracy : 0.957711398601532, test accuracy : 0.6218905448913574\n",
            "\n",
            "step: 2, epoch 4, loss : 0.17618879675865173, training accuracy : 0.9713929891586304, test accuracy : 0.6019900441169739\n",
            "\n",
            "step: 2, epoch 4, loss : 0.13096345961093903, training accuracy : 0.9651740789413452, test accuracy : 0.6169154047966003\n"
          ]
        },
        {
          "output_type": "stream",
          "name": "stderr",
          "text": [
            "100%|██████████| 5/5 [00:09<00:00,  1.82s/it]\n"
          ]
        },
        {
          "output_type": "stream",
          "name": "stdout",
          "text": [
            "\n",
            "step: 2, epoch 4, loss : 0.3077266812324524, training accuracy : 0.9888059496879578, test accuracy : 0.6467661261558533\n"
          ]
        },
        {
          "output_type": "stream",
          "name": "stderr",
          "text": [
            "1000it [00:10, 93.23it/s]\n",
            "10it [00:02,  4.19it/s]\n",
            "  0%|          | 0/5 [00:00<?, ?it/s]"
          ]
        },
        {
          "output_type": "stream",
          "name": "stdout",
          "text": [
            "\n",
            "step: 3, epoch 0, loss : 1.0032832622528076, training accuracy : 0.5284653306007385, test accuracy : 0.5346534848213196\n",
            "\n",
            "step: 3, epoch 0, loss : 0.6090877652168274, training accuracy : 0.6806930303573608, test accuracy : 0.603960394859314\n"
          ]
        },
        {
          "output_type": "stream",
          "name": "stderr",
          "text": [
            "\r 20%|██        | 1/5 [00:01<00:06,  1.66s/it]"
          ]
        },
        {
          "output_type": "stream",
          "name": "stdout",
          "text": [
            "\n",
            "step: 3, epoch 0, loss : 0.7247200608253479, training accuracy : 0.7586633563041687, test accuracy : 0.6683168411254883\n",
            "\n",
            "step: 3, epoch 1, loss : 0.5411537885665894, training accuracy : 0.780940592288971, test accuracy : 0.6584158539772034\n",
            "\n",
            "step: 3, epoch 1, loss : 0.4552537798881531, training accuracy : 0.8353960514068604, test accuracy : 0.7029702663421631\n"
          ]
        },
        {
          "output_type": "stream",
          "name": "stderr",
          "text": [
            "\r 40%|████      | 2/5 [00:03<00:05,  1.79s/it]"
          ]
        },
        {
          "output_type": "stream",
          "name": "stdout",
          "text": [
            "\n",
            "step: 3, epoch 1, loss : 0.4539543688297272, training accuracy : 0.8824257254600525, test accuracy : 0.6633663177490234\n",
            "\n",
            "step: 3, epoch 2, loss : 0.26534759998321533, training accuracy : 0.8985148668289185, test accuracy : 0.6831682920455933\n",
            "\n",
            "step: 3, epoch 2, loss : 0.33735257387161255, training accuracy : 0.9368811845779419, test accuracy : 0.6633663177490234\n"
          ]
        },
        {
          "output_type": "stream",
          "name": "stderr",
          "text": [
            "\r 60%|██████    | 3/5 [00:05<00:03,  1.83s/it]"
          ]
        },
        {
          "output_type": "stream",
          "name": "stdout",
          "text": [
            "\n",
            "step: 3, epoch 2, loss : 0.21933099627494812, training accuracy : 0.9740098714828491, test accuracy : 0.6782178282737732\n",
            "\n",
            "step: 3, epoch 3, loss : 0.10328704118728638, training accuracy : 0.9801980257034302, test accuracy : 0.6534653306007385\n",
            "\n",
            "step: 3, epoch 3, loss : 0.09158938378095627, training accuracy : 0.9752475023269653, test accuracy : 0.6732673048973083\n"
          ]
        },
        {
          "output_type": "stream",
          "name": "stderr",
          "text": [
            "\r 80%|████████  | 4/5 [00:07<00:01,  1.85s/it]"
          ]
        },
        {
          "output_type": "stream",
          "name": "stdout",
          "text": [
            "\n",
            "step: 3, epoch 3, loss : 0.1126711443066597, training accuracy : 0.9888613820075989, test accuracy : 0.6386138796806335\n",
            "\n",
            "step: 3, epoch 4, loss : 0.05121525749564171, training accuracy : 0.9925742149353027, test accuracy : 0.6584158539772034\n",
            "\n",
            "step: 3, epoch 4, loss : 0.02321201004087925, training accuracy : 0.993811845779419, test accuracy : 0.6386138796806335\n"
          ]
        },
        {
          "output_type": "stream",
          "name": "stderr",
          "text": [
            "100%|██████████| 5/5 [00:09<00:00,  1.83s/it]\n"
          ]
        },
        {
          "output_type": "stream",
          "name": "stdout",
          "text": [
            "\n",
            "step: 3, epoch 4, loss : 0.08625473827123642, training accuracy : 0.9962871074676514, test accuracy : 0.6584158539772034\n"
          ]
        },
        {
          "output_type": "stream",
          "name": "stderr",
          "text": [
            "1000it [00:10, 99.87it/s]\n",
            "10it [00:02,  3.69it/s]\n",
            "  0%|          | 0/5 [00:00<?, ?it/s]"
          ]
        },
        {
          "output_type": "stream",
          "name": "stdout",
          "text": [
            "\n",
            "step: 4, epoch 0, loss : 1.5377838611602783, training accuracy : 0.6062111854553223, test accuracy : 0.5841584205627441\n",
            "\n",
            "step: 4, epoch 0, loss : 0.8299238681793213, training accuracy : 0.7155279517173767, test accuracy : 0.5396039485931396\n"
          ]
        },
        {
          "output_type": "stream",
          "name": "stderr",
          "text": [
            "\r 20%|██        | 1/5 [00:01<00:06,  1.64s/it]"
          ]
        },
        {
          "output_type": "stream",
          "name": "stdout",
          "text": [
            "\n",
            "step: 4, epoch 0, loss : 0.6441624760627747, training accuracy : 0.7614906430244446, test accuracy : 0.5841584205627441\n",
            "\n",
            "step: 4, epoch 1, loss : 0.4406210780143738, training accuracy : 0.8049689531326294, test accuracy : 0.5742574334144592\n",
            "\n",
            "step: 4, epoch 1, loss : 0.45913660526275635, training accuracy : 0.827329158782959, test accuracy : 0.5792078971862793\n"
          ]
        },
        {
          "output_type": "stream",
          "name": "stderr",
          "text": [
            "\r 40%|████      | 2/5 [00:03<00:05,  1.77s/it]"
          ]
        },
        {
          "output_type": "stream",
          "name": "stdout",
          "text": [
            "\n",
            "step: 4, epoch 1, loss : 0.42272043228149414, training accuracy : 0.8608695268630981, test accuracy : 0.5742574334144592\n",
            "\n",
            "step: 4, epoch 2, loss : 0.29095789790153503, training accuracy : 0.9080744981765747, test accuracy : 0.594059407711029\n",
            "\n",
            "step: 4, epoch 2, loss : 0.19346359372138977, training accuracy : 0.9366459250450134, test accuracy : 0.5742574334144592\n"
          ]
        },
        {
          "output_type": "stream",
          "name": "stderr",
          "text": [
            "\r 60%|██████    | 3/5 [00:05<00:03,  1.82s/it]"
          ]
        },
        {
          "output_type": "stream",
          "name": "stdout",
          "text": [
            "\n",
            "step: 4, epoch 2, loss : 0.2486352175474167, training accuracy : 0.9527950286865234, test accuracy : 0.5693069100379944\n",
            "\n",
            "step: 4, epoch 3, loss : 0.13549740612506866, training accuracy : 0.9763975143432617, test accuracy : 0.5841584205627441\n",
            "\n",
            "step: 4, epoch 3, loss : 0.12199815362691879, training accuracy : 0.9739130139350891, test accuracy : 0.5792078971862793\n"
          ]
        },
        {
          "output_type": "stream",
          "name": "stderr",
          "text": [
            "\r 80%|████████  | 4/5 [00:07<00:01,  1.84s/it]"
          ]
        },
        {
          "output_type": "stream",
          "name": "stdout",
          "text": [
            "\n",
            "step: 4, epoch 3, loss : 0.10362730175256729, training accuracy : 0.9888198375701904, test accuracy : 0.5841584205627441\n",
            "\n",
            "step: 4, epoch 4, loss : 0.06542601436376572, training accuracy : 0.9813664555549622, test accuracy : 0.5792078971862793\n",
            "\n",
            "step: 4, epoch 4, loss : 0.04506658390164375, training accuracy : 0.9900621175765991, test accuracy : 0.5990098714828491\n"
          ]
        },
        {
          "output_type": "stream",
          "name": "stderr",
          "text": [
            "100%|██████████| 5/5 [00:09<00:00,  1.83s/it]\n"
          ]
        },
        {
          "output_type": "stream",
          "name": "stdout",
          "text": [
            "\n",
            "step: 4, epoch 4, loss : 0.09127643704414368, training accuracy : 0.9962732791900635, test accuracy : 0.5891088843345642\n"
          ]
        },
        {
          "output_type": "stream",
          "name": "stderr",
          "text": [
            "1000it [00:10, 93.83it/s]\n",
            "10it [00:02,  3.61it/s]\n",
            "  0%|          | 0/5 [00:00<?, ?it/s]"
          ]
        },
        {
          "output_type": "stream",
          "name": "stdout",
          "text": [
            "\n",
            "step: 5, epoch 0, loss : 1.637042760848999, training accuracy : 0.5955334901809692, test accuracy : 0.608910858631134\n",
            "\n",
            "step: 5, epoch 0, loss : 0.6195972561836243, training accuracy : 0.7084367275238037, test accuracy : 0.5594059228897095\n"
          ]
        },
        {
          "output_type": "stream",
          "name": "stderr",
          "text": [
            "\r 20%|██        | 1/5 [00:01<00:06,  1.65s/it]"
          ]
        },
        {
          "output_type": "stream",
          "name": "stdout",
          "text": [
            "\n",
            "step: 5, epoch 0, loss : 0.6415286660194397, training accuracy : 0.8014888167381287, test accuracy : 0.5792078971862793\n",
            "\n",
            "step: 5, epoch 1, loss : 0.524501383304596, training accuracy : 0.830024778842926, test accuracy : 0.5396039485931396\n",
            "\n",
            "step: 5, epoch 1, loss : 0.4431000351905823, training accuracy : 0.8796526193618774, test accuracy : 0.5792078971862793\n"
          ]
        },
        {
          "output_type": "stream",
          "name": "stderr",
          "text": [
            "\r 40%|████      | 2/5 [00:03<00:05,  1.78s/it]"
          ]
        },
        {
          "output_type": "stream",
          "name": "stdout",
          "text": [
            "\n",
            "step: 5, epoch 1, loss : 0.4767725169658661, training accuracy : 0.9305210709571838, test accuracy : 0.5544554591178894\n",
            "\n",
            "step: 5, epoch 2, loss : 0.23664799332618713, training accuracy : 0.92555832862854, test accuracy : 0.5643564462661743\n",
            "\n",
            "step: 5, epoch 2, loss : 0.2714797556400299, training accuracy : 0.9429280161857605, test accuracy : 0.5742574334144592\n"
          ]
        },
        {
          "output_type": "stream",
          "name": "stderr",
          "text": [
            "\r 60%|██████    | 3/5 [00:05<00:03,  1.83s/it]"
          ]
        },
        {
          "output_type": "stream",
          "name": "stdout",
          "text": [
            "\n",
            "step: 5, epoch 2, loss : 0.2770933210849762, training accuracy : 0.9751861095428467, test accuracy : 0.5594059228897095\n",
            "\n",
            "step: 5, epoch 3, loss : 0.11469853669404984, training accuracy : 0.9913151264190674, test accuracy : 0.5594059228897095\n",
            "\n",
            "step: 5, epoch 3, loss : 0.07786598801612854, training accuracy : 0.996277928352356, test accuracy : 0.5396039485931396\n"
          ]
        },
        {
          "output_type": "stream",
          "name": "stderr",
          "text": [
            "\r 80%|████████  | 4/5 [00:07<00:01,  1.85s/it]"
          ]
        },
        {
          "output_type": "stream",
          "name": "stdout",
          "text": [
            "\n",
            "step: 5, epoch 3, loss : 0.054899513721466064, training accuracy : 0.9987592697143555, test accuracy : 0.5544554591178894\n",
            "\n",
            "step: 5, epoch 4, loss : 0.07390394061803818, training accuracy : 0.9950371980667114, test accuracy : 0.5445544719696045\n",
            "\n",
            "step: 5, epoch 4, loss : 0.042626701295375824, training accuracy : 0.9950371980667114, test accuracy : 0.5247524380683899\n"
          ]
        },
        {
          "output_type": "stream",
          "name": "stderr",
          "text": [
            "100%|██████████| 5/5 [00:09<00:00,  1.83s/it]\n"
          ]
        },
        {
          "output_type": "stream",
          "name": "stdout",
          "text": [
            "\n",
            "step: 5, epoch 4, loss : 0.03607488051056862, training accuracy : 0.996277928352356, test accuracy : 0.5495049357414246\n"
          ]
        },
        {
          "output_type": "stream",
          "name": "stderr",
          "text": [
            "1000it [00:10, 99.73it/s]\n",
            "10it [00:02,  4.44it/s]\n",
            "  0%|          | 0/5 [00:00<?, ?it/s]"
          ]
        },
        {
          "output_type": "stream",
          "name": "stdout",
          "text": [
            "\n",
            "step: 6, epoch 0, loss : 0.6736372113227844, training accuracy : 0.5638166069984436, test accuracy : 0.5594059228897095\n",
            "\n",
            "step: 6, epoch 0, loss : 0.8075276017189026, training accuracy : 0.6555142402648926, test accuracy : 0.5643564462661743\n"
          ]
        },
        {
          "output_type": "stream",
          "name": "stderr",
          "text": [
            "\r 20%|██        | 1/5 [00:01<00:06,  1.68s/it]"
          ]
        },
        {
          "output_type": "stream",
          "name": "stdout",
          "text": [
            "\n",
            "step: 6, epoch 0, loss : 0.6949986815452576, training accuracy : 0.7385377883911133, test accuracy : 0.6336633563041687\n",
            "\n",
            "step: 6, epoch 1, loss : 0.5007963180541992, training accuracy : 0.8091697692871094, test accuracy : 0.6485148668289185\n",
            "\n",
            "step: 6, epoch 1, loss : 0.4905916750431061, training accuracy : 0.8624535202980042, test accuracy : 0.6732673048973083\n"
          ]
        },
        {
          "output_type": "stream",
          "name": "stderr",
          "text": [
            "\r 40%|████      | 2/5 [00:03<00:05,  1.80s/it]"
          ]
        },
        {
          "output_type": "stream",
          "name": "stdout",
          "text": [
            "\n",
            "step: 6, epoch 1, loss : 0.4286523759365082, training accuracy : 0.9033457636833191, test accuracy : 0.6782178282737732\n",
            "\n",
            "step: 6, epoch 2, loss : 0.3571338951587677, training accuracy : 0.9268897175788879, test accuracy : 0.6732673048973083\n",
            "\n",
            "step: 6, epoch 2, loss : 0.3341224789619446, training accuracy : 0.9442379474639893, test accuracy : 0.6584158539772034\n"
          ]
        },
        {
          "output_type": "stream",
          "name": "stderr",
          "text": [
            "\r 60%|██████    | 3/5 [00:05<00:03,  1.84s/it]"
          ]
        },
        {
          "output_type": "stream",
          "name": "stdout",
          "text": [
            "\n",
            "step: 6, epoch 2, loss : 0.4147937297821045, training accuracy : 0.9628252983093262, test accuracy : 0.6782178282737732\n",
            "\n",
            "step: 6, epoch 3, loss : 0.18660733103752136, training accuracy : 0.9727385640144348, test accuracy : 0.618811845779419\n",
            "\n",
            "step: 6, epoch 3, loss : 0.11473169177770615, training accuracy : 0.9727385640144348, test accuracy : 0.6386138796806335\n"
          ]
        },
        {
          "output_type": "stream",
          "name": "stderr",
          "text": [
            "\r 80%|████████  | 4/5 [00:07<00:01,  1.86s/it]"
          ]
        },
        {
          "output_type": "stream",
          "name": "stdout",
          "text": [
            "\n",
            "step: 6, epoch 3, loss : 0.2078910768032074, training accuracy : 0.9900867342948914, test accuracy : 0.618811845779419\n",
            "\n",
            "step: 6, epoch 4, loss : 0.03434326872229576, training accuracy : 0.9925650954246521, test accuracy : 0.6336633563041687\n",
            "\n",
            "step: 6, epoch 4, loss : 0.031259290874004364, training accuracy : 0.9888476133346558, test accuracy : 0.6336633563041687\n"
          ]
        },
        {
          "output_type": "stream",
          "name": "stderr",
          "text": [
            "100%|██████████| 5/5 [00:09<00:00,  1.85s/it]\n"
          ]
        },
        {
          "output_type": "stream",
          "name": "stdout",
          "text": [
            "\n",
            "step: 6, epoch 4, loss : 0.2645348012447357, training accuracy : 0.9900867342948914, test accuracy : 0.6336633563041687\n"
          ]
        },
        {
          "output_type": "stream",
          "name": "stderr",
          "text": [
            "1000it [00:10, 93.56it/s]\n",
            "10it [00:02,  4.19it/s]\n",
            "  0%|          | 0/5 [00:00<?, ?it/s]"
          ]
        },
        {
          "output_type": "stream",
          "name": "stdout",
          "text": [
            "\n",
            "step: 7, epoch 0, loss : 1.3746851682662964, training accuracy : 0.5680692791938782, test accuracy : 0.5594059228897095\n",
            "\n",
            "step: 7, epoch 0, loss : 0.782007098197937, training accuracy : 0.691831648349762, test accuracy : 0.603960394859314\n"
          ]
        },
        {
          "output_type": "stream",
          "name": "stderr",
          "text": [
            "\r 20%|██        | 1/5 [00:01<00:06,  1.66s/it]"
          ]
        },
        {
          "output_type": "stream",
          "name": "stdout",
          "text": [
            "\n",
            "step: 7, epoch 0, loss : 0.6879777908325195, training accuracy : 0.8292078971862793, test accuracy : 0.5792078971862793\n",
            "\n",
            "step: 7, epoch 1, loss : 0.5689101219177246, training accuracy : 0.8935643434524536, test accuracy : 0.594059407711029\n",
            "\n",
            "step: 7, epoch 1, loss : 0.43660154938697815, training accuracy : 0.8737623691558838, test accuracy : 0.5990098714828491\n"
          ]
        },
        {
          "output_type": "stream",
          "name": "stderr",
          "text": [
            "\r 40%|████      | 2/5 [00:03<00:05,  1.80s/it]"
          ]
        },
        {
          "output_type": "stream",
          "name": "stdout",
          "text": [
            "\n",
            "step: 7, epoch 1, loss : 0.42265158891677856, training accuracy : 0.9368811845779419, test accuracy : 0.5990098714828491\n",
            "\n",
            "step: 7, epoch 2, loss : 0.26127520203590393, training accuracy : 0.9678217768669128, test accuracy : 0.5891088843345642\n",
            "\n",
            "step: 7, epoch 2, loss : 0.214361310005188, training accuracy : 0.9727722406387329, test accuracy : 0.5495049357414246\n"
          ]
        },
        {
          "output_type": "stream",
          "name": "stderr",
          "text": [
            "\r 60%|██████    | 3/5 [00:05<00:03,  1.84s/it]"
          ]
        },
        {
          "output_type": "stream",
          "name": "stdout",
          "text": [
            "\n",
            "step: 7, epoch 2, loss : 0.15522722899913788, training accuracy : 0.9913366436958313, test accuracy : 0.5891088843345642\n",
            "\n",
            "step: 7, epoch 3, loss : 0.06295834481716156, training accuracy : 0.9975247383117676, test accuracy : 0.5990098714828491\n",
            "\n",
            "step: 7, epoch 3, loss : 0.20273810625076294, training accuracy : 0.993811845779419, test accuracy : 0.6287128329277039\n"
          ]
        },
        {
          "output_type": "stream",
          "name": "stderr",
          "text": [
            "\r 80%|████████  | 4/5 [00:07<00:01,  1.86s/it]"
          ]
        },
        {
          "output_type": "stream",
          "name": "stdout",
          "text": [
            "\n",
            "step: 7, epoch 3, loss : 0.0742730125784874, training accuracy : 0.9975247383117676, test accuracy : 0.608910858631134\n",
            "\n",
            "step: 7, epoch 4, loss : 0.031645987182855606, training accuracy : 0.9962871074676514, test accuracy : 0.5445544719696045\n",
            "\n",
            "step: 7, epoch 4, loss : 0.02037578634917736, training accuracy : 0.9962871074676514, test accuracy : 0.6138613820075989\n"
          ]
        },
        {
          "output_type": "stream",
          "name": "stderr",
          "text": [
            "100%|██████████| 5/5 [00:09<00:00,  1.84s/it]\n"
          ]
        },
        {
          "output_type": "stream",
          "name": "stdout",
          "text": [
            "\n",
            "step: 7, epoch 4, loss : 0.025105148553848267, training accuracy : 0.9987623691558838, test accuracy : 0.5742574334144592\n"
          ]
        },
        {
          "output_type": "stream",
          "name": "stderr",
          "text": [
            "1000it [00:09, 101.74it/s]\n",
            "10it [00:02,  3.86it/s]\n",
            "  0%|          | 0/5 [00:00<?, ?it/s]"
          ]
        },
        {
          "output_type": "stream",
          "name": "stdout",
          "text": [
            "\n",
            "step: 8, epoch 0, loss : 0.9724174737930298, training accuracy : 0.6262376308441162, test accuracy : 0.5742574334144592\n",
            "\n",
            "step: 8, epoch 0, loss : 1.2226953506469727, training accuracy : 0.6992574334144592, test accuracy : 0.5792078971862793\n"
          ]
        },
        {
          "output_type": "stream",
          "name": "stderr",
          "text": [
            "\r 20%|██        | 1/5 [00:01<00:06,  1.70s/it]"
          ]
        },
        {
          "output_type": "stream",
          "name": "stdout",
          "text": [
            "\n",
            "step: 8, epoch 0, loss : 0.5449104905128479, training accuracy : 0.8131188154220581, test accuracy : 0.618811845779419\n",
            "\n",
            "step: 8, epoch 1, loss : 0.46857544779777527, training accuracy : 0.8725247383117676, test accuracy : 0.6435643434524536\n",
            "\n",
            "step: 8, epoch 1, loss : 0.3388119041919708, training accuracy : 0.9294554591178894, test accuracy : 0.6633663177490234\n"
          ]
        },
        {
          "output_type": "stream",
          "name": "stderr",
          "text": [
            "\r 40%|████      | 2/5 [00:03<00:05,  1.81s/it]"
          ]
        },
        {
          "output_type": "stream",
          "name": "stdout",
          "text": [
            "\n",
            "step: 8, epoch 1, loss : 0.3079689145088196, training accuracy : 0.9368811845779419, test accuracy : 0.6584158539772034\n",
            "\n",
            "step: 8, epoch 2, loss : 0.2242811769247055, training accuracy : 0.9702970385551453, test accuracy : 0.6732673048973083\n",
            "\n",
            "step: 8, epoch 2, loss : 0.16062667965888977, training accuracy : 0.9777227640151978, test accuracy : 0.6485148668289185\n"
          ]
        },
        {
          "output_type": "stream",
          "name": "stderr",
          "text": [
            "\r 60%|██████    | 3/5 [00:05<00:03,  1.85s/it]"
          ]
        },
        {
          "output_type": "stream",
          "name": "stdout",
          "text": [
            "\n",
            "step: 8, epoch 2, loss : 0.1208900734782219, training accuracy : 0.9900990128517151, test accuracy : 0.608910858631134\n",
            "\n",
            "step: 8, epoch 3, loss : 0.04872119054198265, training accuracy : 0.9962871074676514, test accuracy : 0.6237623691558838\n",
            "\n",
            "step: 8, epoch 3, loss : 0.0518936812877655, training accuracy : 0.9962871074676514, test accuracy : 0.6237623691558838\n"
          ]
        },
        {
          "output_type": "stream",
          "name": "stderr",
          "text": [
            "\r 80%|████████  | 4/5 [00:07<00:01,  1.87s/it]"
          ]
        },
        {
          "output_type": "stream",
          "name": "stdout",
          "text": [
            "\n",
            "step: 8, epoch 3, loss : 0.02653338387608528, training accuracy : 0.9987623691558838, test accuracy : 0.594059407711029\n",
            "\n",
            "step: 8, epoch 4, loss : 0.009500318206846714, training accuracy : 1.0, test accuracy : 0.5742574334144592\n",
            "\n",
            "step: 8, epoch 4, loss : 0.010591053403913975, training accuracy : 0.9987623691558838, test accuracy : 0.5990098714828491\n"
          ]
        },
        {
          "output_type": "stream",
          "name": "stderr",
          "text": [
            "100%|██████████| 5/5 [00:09<00:00,  1.86s/it]\n"
          ]
        },
        {
          "output_type": "stream",
          "name": "stdout",
          "text": [
            "\n",
            "step: 8, epoch 4, loss : 0.011294552125036716, training accuracy : 1.0, test accuracy : 0.5990098714828491\n"
          ]
        },
        {
          "output_type": "stream",
          "name": "stderr",
          "text": [
            "1000it [00:09, 104.71it/s]\n",
            "10it [00:02,  4.51it/s]\n",
            "  0%|          | 0/5 [00:00<?, ?it/s]"
          ]
        },
        {
          "output_type": "stream",
          "name": "stdout",
          "text": [
            "\n",
            "step: 9, epoch 0, loss : 1.6569702625274658, training accuracy : 0.5452292561531067, test accuracy : 0.5297029614448547\n",
            "\n",
            "step: 9, epoch 0, loss : 0.7846042513847351, training accuracy : 0.7348203659057617, test accuracy : 0.5049504637718201\n"
          ]
        },
        {
          "output_type": "stream",
          "name": "stderr",
          "text": [
            "\r 20%|██        | 1/5 [00:01<00:06,  1.69s/it]"
          ]
        },
        {
          "output_type": "stream",
          "name": "stdout",
          "text": [
            "\n",
            "step: 9, epoch 0, loss : 0.5430906414985657, training accuracy : 0.8475836515426636, test accuracy : 0.5198019742965698\n",
            "\n",
            "step: 9, epoch 1, loss : 0.28743037581443787, training accuracy : 0.8959107995033264, test accuracy : 0.5247524380683899\n",
            "\n",
            "step: 9, epoch 1, loss : 0.3468536138534546, training accuracy : 0.9330855011940002, test accuracy : 0.5396039485931396\n"
          ]
        },
        {
          "output_type": "stream",
          "name": "stderr",
          "text": [
            "\r 40%|████      | 2/5 [00:03<00:05,  1.81s/it]"
          ]
        },
        {
          "output_type": "stream",
          "name": "stdout",
          "text": [
            "\n",
            "step: 9, epoch 1, loss : 0.26325470209121704, training accuracy : 0.9714993834495544, test accuracy : 0.5396039485931396\n",
            "\n",
            "step: 9, epoch 2, loss : 0.11272910982370377, training accuracy : 0.9826518297195435, test accuracy : 0.5396039485931396\n",
            "\n",
            "step: 9, epoch 2, loss : 0.12841026484966278, training accuracy : 0.9826518297195435, test accuracy : 0.5594059228897095\n"
          ]
        },
        {
          "output_type": "stream",
          "name": "stderr",
          "text": [
            "\r 60%|██████    | 3/5 [00:05<00:03,  1.85s/it]"
          ]
        },
        {
          "output_type": "stream",
          "name": "stdout",
          "text": [
            "\n",
            "step: 9, epoch 2, loss : 0.15817803144454956, training accuracy : 0.9888476133346558, test accuracy : 0.5594059228897095\n",
            "\n",
            "step: 9, epoch 3, loss : 0.07395579665899277, training accuracy : 0.9950433969497681, test accuracy : 0.5297029614448547\n",
            "\n",
            "step: 9, epoch 3, loss : 0.009290333837270737, training accuracy : 0.9925650954246521, test accuracy : 0.5297029614448547\n"
          ]
        },
        {
          "output_type": "stream",
          "name": "stderr",
          "text": [
            "\r 80%|████████  | 4/5 [00:07<00:01,  1.88s/it]"
          ]
        },
        {
          "output_type": "stream",
          "name": "stdout",
          "text": [
            "\n",
            "step: 9, epoch 3, loss : 0.037056103348731995, training accuracy : 0.9962825775146484, test accuracy : 0.5247524380683899\n",
            "\n",
            "step: 9, epoch 4, loss : 0.012129448354244232, training accuracy : 0.9950433969497681, test accuracy : 0.5297029614448547\n",
            "\n",
            "step: 9, epoch 4, loss : 0.1153082624077797, training accuracy : 0.9950433969497681, test accuracy : 0.5297029614448547\n"
          ]
        },
        {
          "output_type": "stream",
          "name": "stderr",
          "text": [
            "100%|██████████| 5/5 [00:09<00:00,  1.86s/it]"
          ]
        },
        {
          "output_type": "stream",
          "name": "stdout",
          "text": [
            "\n",
            "step: 9, epoch 4, loss : 0.013944339007139206, training accuracy : 0.997521698474884, test accuracy : 0.5049504637718201\n"
          ]
        },
        {
          "output_type": "stream",
          "name": "stderr",
          "text": [
            "\n"
          ]
        }
      ]
    },
    {
      "cell_type": "markdown",
      "source": [
        "# Test"
      ],
      "metadata": {
        "id": "LgOsHV8v7A6g"
      }
    },
    {
      "cell_type": "code",
      "source": [
        "#Upoad and read test data\n",
        "img_zip = zipfile.ZipFile('drive/MyDrive/test.zip')\n",
        "img_zip.setpassword(b'*MaMiSemEval2022!')\n",
        "df_test = pd.read_csv('drive/MyDrive/test_labels.txt',delimiter=\"\\t\", header=None)"
      ],
      "metadata": {
        "id": "JndprTxw7Aah"
      },
      "execution_count": 35,
      "outputs": []
    },
    {
      "cell_type": "code",
      "source": [
        "df_test=df_test[0].str.split('        ',expand=True)[[0,1]].rename(columns={0:'file_name',1:'misogynous'})"
      ],
      "metadata": {
        "id": "S4gF6DVaNCjZ"
      },
      "execution_count": 46,
      "outputs": []
    },
    {
      "cell_type": "code",
      "source": [
        "df_test.misogynous=df_test.misogynous.astype('int32')"
      ],
      "metadata": {
        "id": "UyZYoqZYSliN"
      },
      "execution_count": 51,
      "outputs": []
    },
    {
      "cell_type": "code",
      "source": [
        "#Pre-processing test data\n",
        "input = []\n",
        "label = []\n",
        "img_zip = zipfile.ZipFile('drive/MyDrive/test.zip')\n",
        "img_zip.setpassword(b'*MaMiSemEval2022!')\n",
        "\n",
        "for i, row in tqdm(df_test.iterrows()):\n",
        "    try:\n",
        "        filename = row['file_name']\n",
        "        convert_tensor = transforms.Compose([\n",
        "        transforms.Resize((224, 224)),\n",
        "        transforms.ToTensor()\n",
        "    ])\n",
        "\n",
        "         \n",
        "        \n",
        "        img = Image.open(img_zip.open('test/' + filename)) \n",
        "        \n",
        "        tensor=convert_tensor(img)\n",
        "        if tensor.shape[0] == 3:\n",
        "            input.append(tensor)\n",
        "            label.append(torch.tensor(row['misogynous'],dtype=torch.long))\n",
        "    except Exception as e:\n",
        "        print(e)\n",
        "        continue"
      ],
      "metadata": {
        "colab": {
          "base_uri": "https://localhost:8080/"
        },
        "id": "g3TUbW704qei",
        "outputId": "020055a4-c1cf-485a-ccb0-c0cf66bc8663"
      },
      "execution_count": 53,
      "outputs": [
        {
          "output_type": "stream",
          "name": "stderr",
          "text": [
            "1000it [03:52,  4.30it/s]\n"
          ]
        }
      ]
    },
    {
      "cell_type": "code",
      "source": [
        ""
      ],
      "metadata": {
        "id": "pKdeqFR1NAsx"
      },
      "execution_count": null,
      "outputs": []
    },
    {
      "cell_type": "code",
      "source": [
        "#del x_train, y_train, trainset, trainloader, tensor, output, label_t, input_t"
      ],
      "metadata": {
        "id": "RuxLAxsrDiJp"
      },
      "execution_count": 26,
      "outputs": []
    },
    {
      "cell_type": "code",
      "source": [
        "test_tensor = torch.stack(input,0).to(device=device) \n",
        "test_label_tensor = torch.stack(label,0).to(device=device)"
      ],
      "metadata": {
        "id": "nELkrXQ_B6sB"
      },
      "execution_count": 54,
      "outputs": []
    },
    {
      "cell_type": "code",
      "source": [
        "output = torch.argmax(model(test_tensor),dim=1)\n",
        "output"
      ],
      "metadata": {
        "id": "5vg1Sm95CKkA",
        "colab": {
          "base_uri": "https://localhost:8080/"
        },
        "outputId": "468981d0-c75b-4fa9-a701-8b0be0b52ddb"
      },
      "execution_count": 70,
      "outputs": [
        {
          "output_type": "execute_result",
          "data": {
            "text/plain": [
              "tensor([1, 1, 1, 1, 0, 0, 1, 1, 0, 1, 0, 1, 1, 1, 1, 0, 1, 1, 1, 1, 1, 0, 0, 1,\n",
              "        1, 0, 1, 0, 1, 1, 1, 0, 1, 0, 0, 1, 0, 0, 1, 1, 1, 1, 1, 1, 1, 0, 1, 0,\n",
              "        0, 1, 1, 0, 0, 0, 1, 0, 1, 0, 1, 0, 1, 1, 1, 1, 1, 1, 1, 0, 1, 0, 1, 0,\n",
              "        1, 0, 1, 1, 1, 0, 1, 1, 1, 0, 1, 1, 1, 1, 1, 1, 1, 1, 1, 1, 0, 1, 0, 1,\n",
              "        1, 1, 1, 1, 0, 1, 0, 1, 1, 1, 0, 0, 0, 1, 0, 1, 0, 1, 1, 1, 0, 0, 1, 1,\n",
              "        1, 0, 0, 1, 0, 1, 0, 1, 1, 1, 0, 0, 1, 1, 1, 1, 1, 1, 1, 1, 1, 0, 1, 0,\n",
              "        1, 1, 1, 1, 1, 1, 1, 1, 1, 1, 0, 1, 0, 0, 1, 1, 1, 0, 1, 1, 0, 1, 1, 0,\n",
              "        1, 1, 1, 1, 1, 1, 0, 1, 1, 1, 1, 1, 1, 1, 0, 0, 1, 1, 0, 0, 0, 1, 0, 0,\n",
              "        0, 1, 0, 0, 1, 0, 1, 1, 1, 1, 0, 1, 0, 1, 0, 0, 1, 0, 1, 1, 1, 0, 1, 0,\n",
              "        1, 1, 1, 0, 1, 0, 1, 0, 0, 1, 1, 0, 0, 0, 1, 1, 1, 1, 0, 0, 1, 0, 1, 0,\n",
              "        0, 0, 0, 0, 1, 0, 0, 1, 0, 0, 1, 0, 0, 1, 1, 1, 1, 1, 1, 0, 1, 0, 1, 1,\n",
              "        1, 1, 0, 1, 0, 1, 1, 1, 0, 1, 0, 1, 1, 1, 0, 1, 1, 1, 0, 0, 1, 0, 1, 0,\n",
              "        1, 0, 1, 1, 1, 1, 1, 0, 0, 1, 0, 1, 1, 1, 1, 1, 1, 0, 1, 0, 1, 1, 0, 1,\n",
              "        1, 1, 0, 0, 0, 1, 0, 0, 0, 0, 0, 0, 0, 0, 1, 0, 0, 0, 1, 1, 1, 1, 1, 1,\n",
              "        1, 0, 1, 1, 0, 1, 0, 1, 1, 1, 0, 1, 0, 1, 0, 1, 0, 1, 1, 1, 1, 1, 0, 1,\n",
              "        1, 1, 0, 0, 0, 1, 1, 0, 1, 1, 1, 0, 0, 1, 1, 1, 0, 1, 0, 0, 1, 1, 1, 0,\n",
              "        1, 0, 1, 0, 1, 0, 1, 1, 1, 0, 1, 0, 0, 1, 1, 1, 0, 1, 0, 1, 0, 1, 0, 1,\n",
              "        1, 1, 0, 1, 0, 1, 0, 1, 0, 0, 1, 0, 1, 1, 1, 1, 1, 1, 0, 1, 0, 1, 0, 1,\n",
              "        1, 1, 0, 1, 0, 1, 1, 1, 0, 1, 1, 0, 0, 0, 1, 1, 0, 0, 1, 1, 0, 1, 0, 0,\n",
              "        1, 0, 1, 1, 0, 0, 1, 1, 0, 1, 1, 0, 1, 1, 1, 0, 0, 1, 0, 0, 1, 0, 1, 1,\n",
              "        1, 1, 0, 1, 0, 0, 1, 1, 1, 1, 1, 1, 0, 1, 1, 1, 0, 1, 0, 1, 1, 1, 1, 1,\n",
              "        1, 0, 0, 1, 0, 1, 1, 1, 1, 0, 1, 0, 0, 1, 1, 1, 0, 0, 0, 0, 1, 0, 1, 1,\n",
              "        0, 1, 0, 0, 0, 1, 1, 1, 1, 1, 1, 1, 1, 1, 1, 1, 1, 1, 0, 1, 1, 1, 0, 1,\n",
              "        1, 0, 1, 1, 1, 1, 1, 1, 1, 1, 1, 0, 1, 1, 1, 0, 1, 1, 0, 1, 1, 1, 1, 0,\n",
              "        1, 1, 1, 0, 0, 1, 1, 0, 1, 1, 0, 1, 1, 1, 0, 1, 1, 1, 0, 0, 0, 1, 0, 0,\n",
              "        1, 1, 0, 1, 0, 1, 0, 0, 1, 1, 1, 0, 1, 1, 0, 0, 0, 1, 1, 1, 0, 1, 1, 0,\n",
              "        1, 1, 1, 1, 0, 1, 0, 1, 1, 1, 0, 1, 0, 0, 1, 1, 1, 0, 1, 1, 1, 0, 0, 0,\n",
              "        1, 1, 1, 0, 0, 1, 0, 1, 0, 1, 0, 1, 1, 1, 1, 1, 0, 1, 0, 0, 1, 1, 1, 0,\n",
              "        1, 0, 0, 0, 0, 1, 0, 1, 1, 1, 1, 0, 0, 1, 0, 0, 1, 0, 1, 1, 1, 1, 1, 1,\n",
              "        0, 1, 1, 1, 1, 1, 0, 0, 1, 1, 0, 1, 1, 0, 1, 0, 0, 0, 0, 0, 1, 1, 1, 0,\n",
              "        1, 1, 0, 1, 1, 1, 1, 0, 0, 1, 0, 1, 1, 1, 1, 0, 0, 1, 0, 1, 1, 1, 0, 1,\n",
              "        0, 1, 0, 1, 0, 0, 1, 0, 1, 0, 1, 1, 1, 1, 0, 1, 0, 1, 1, 1, 0, 1, 0, 1,\n",
              "        0, 0, 1, 1, 1, 1, 0, 1, 1, 1, 1, 1, 1, 0, 0, 0, 1, 1, 0, 1, 1, 1, 1, 0,\n",
              "        1, 1, 1, 0, 0, 1, 1, 1, 1, 1, 1, 1, 1, 0, 1, 1, 1, 1, 0, 0, 1, 1, 1, 0,\n",
              "        1, 1, 1, 1, 1, 0, 0, 1, 1, 1, 1, 0, 1, 1, 0, 1, 1, 1, 0, 1, 1, 1, 1, 0,\n",
              "        1, 0, 1, 1, 1, 0, 1, 1, 0, 0, 0, 1, 1, 0, 1, 0, 0, 0, 1, 0, 1, 1, 0, 1,\n",
              "        1, 1, 0, 1, 1, 0, 1, 1, 1, 0, 1, 1, 0, 0, 0, 1, 1, 0, 1, 1, 1, 1, 1, 1,\n",
              "        0, 0, 0, 0, 1, 1, 1, 1, 1, 0, 1, 1, 1, 1, 1, 0, 0, 0, 0, 1, 1, 1, 1, 1,\n",
              "        0, 1, 1, 1, 0, 0, 1, 0, 1, 1, 1, 1, 1, 1, 1, 1, 0, 1, 1, 0, 1, 0, 1, 1,\n",
              "        1, 1, 1, 1, 1, 0, 0, 1, 1, 0, 1, 1, 0, 1, 1, 1, 1, 0, 0, 1, 1, 0, 1, 0,\n",
              "        1, 1, 0, 1, 1, 1, 1, 1, 0, 0, 0, 1, 0, 1, 0, 1, 1, 0, 0, 1, 1, 1, 0, 1,\n",
              "        1, 1, 0, 1, 1, 1, 1, 0, 1, 0, 1, 1, 1, 1, 1, 0], device='cuda:0')"
            ]
          },
          "metadata": {},
          "execution_count": 70
        }
      ]
    },
    {
      "cell_type": "code",
      "source": [
        "#pred=output"
      ],
      "metadata": {
        "id": "WI5iYvnc9pHX"
      },
      "execution_count": 55,
      "outputs": []
    },
    {
      "cell_type": "code",
      "source": [
        "output.shape"
      ],
      "metadata": {
        "colab": {
          "base_uri": "https://localhost:8080/"
        },
        "id": "EV1w3HSWKo62",
        "outputId": "997dbabd-e45e-49b3-dd44-8ad74d299c6f"
      },
      "execution_count": 61,
      "outputs": [
        {
          "output_type": "execute_result",
          "data": {
            "text/plain": [
              "torch.Size([1000])"
            ]
          },
          "metadata": {},
          "execution_count": 61
        }
      ]
    },
    {
      "cell_type": "code",
      "source": [
        "test_label_tensor.cpu().detach().numpy()"
      ],
      "metadata": {
        "colab": {
          "base_uri": "https://localhost:8080/"
        },
        "id": "md3pqgJPVjnz",
        "outputId": "ce45a254-70f0-4b40-fe75-46a3fc6ff563"
      },
      "execution_count": 63,
      "outputs": [
        {
          "output_type": "execute_result",
          "data": {
            "text/plain": [
              "array([0, 1, 0, 1, 0, 0, 1, 0, 1, 1, 0, 1, 1, 0, 1, 0, 1, 0, 0, 0, 1, 0,\n",
              "       0, 0, 0, 0, 1, 1, 0, 0, 1, 1, 1, 1, 1, 0, 1, 0, 1, 1, 0, 0, 1, 1,\n",
              "       0, 1, 1, 0, 0, 0, 1, 0, 0, 0, 0, 0, 0, 0, 0, 1, 1, 1, 1, 0, 0, 1,\n",
              "       1, 1, 1, 0, 0, 0, 0, 0, 1, 1, 0, 0, 0, 0, 1, 1, 0, 0, 1, 1, 1, 1,\n",
              "       1, 0, 0, 1, 0, 0, 0, 0, 0, 0, 1, 0, 1, 0, 1, 1, 0, 0, 1, 1, 1, 1,\n",
              "       0, 1, 1, 1, 1, 0, 0, 0, 1, 0, 1, 0, 0, 0, 0, 1, 0, 1, 0, 0, 1, 0,\n",
              "       1, 0, 1, 0, 1, 0, 1, 0, 0, 1, 0, 0, 0, 1, 0, 0, 0, 1, 0, 1, 1, 1,\n",
              "       1, 1, 0, 0, 1, 1, 1, 0, 0, 0, 0, 0, 1, 1, 1, 0, 1, 1, 1, 1, 1, 1,\n",
              "       0, 1, 0, 1, 1, 0, 0, 1, 1, 1, 1, 0, 1, 0, 0, 0, 0, 0, 1, 1, 0, 1,\n",
              "       0, 0, 1, 0, 0, 1, 1, 1, 0, 1, 0, 1, 0, 0, 1, 1, 1, 1, 1, 0, 1, 0,\n",
              "       0, 0, 0, 0, 1, 0, 0, 1, 0, 0, 1, 0, 0, 0, 0, 0, 0, 0, 1, 0, 0, 1,\n",
              "       0, 0, 1, 0, 0, 0, 0, 1, 0, 0, 0, 1, 1, 1, 1, 1, 0, 0, 0, 1, 1, 1,\n",
              "       0, 1, 0, 0, 0, 1, 1, 1, 1, 0, 1, 1, 0, 0, 1, 0, 0, 1, 1, 1, 1, 0,\n",
              "       0, 0, 1, 0, 1, 0, 0, 0, 0, 1, 0, 0, 0, 1, 0, 1, 0, 0, 1, 1, 0, 1,\n",
              "       0, 0, 0, 0, 0, 1, 0, 1, 0, 0, 0, 1, 0, 1, 0, 0, 0, 1, 1, 1, 0, 1,\n",
              "       1, 0, 0, 0, 0, 1, 0, 0, 0, 0, 0, 1, 0, 1, 1, 1, 0, 0, 0, 1, 0, 0,\n",
              "       1, 1, 1, 1, 1, 1, 0, 0, 0, 1, 1, 0, 0, 0, 1, 1, 1, 1, 1, 1, 1, 0,\n",
              "       1, 0, 1, 1, 0, 0, 1, 1, 0, 0, 0, 0, 0, 0, 1, 1, 0, 0, 0, 0, 1, 1,\n",
              "       0, 0, 0, 1, 1, 1, 1, 0, 1, 1, 0, 0, 0, 0, 0, 1, 1, 0, 0, 0, 0, 1,\n",
              "       0, 0, 0, 0, 0, 1, 0, 1, 0, 1, 1, 0, 1, 1, 1, 0, 0, 0, 0, 1, 0, 1,\n",
              "       0, 1, 1, 0, 1, 0, 1, 1, 1, 0, 1, 1, 1, 1, 0, 0, 1, 1, 1, 1, 1, 0,\n",
              "       0, 1, 0, 1, 1, 0, 1, 1, 1, 0, 1, 0, 1, 0, 1, 0, 1, 1, 1, 0, 0, 1,\n",
              "       1, 1, 1, 0, 1, 0, 1, 1, 0, 1, 0, 1, 0, 1, 0, 1, 0, 0, 1, 1, 1, 1,\n",
              "       0, 0, 0, 0, 0, 0, 1, 1, 1, 1, 1, 0, 1, 1, 1, 0, 1, 1, 1, 0, 0, 1,\n",
              "       0, 1, 0, 1, 0, 1, 1, 1, 1, 1, 1, 1, 0, 0, 1, 1, 1, 1, 0, 1, 0, 0,\n",
              "       0, 0, 1, 1, 0, 0, 0, 0, 0, 1, 1, 1, 0, 0, 0, 1, 1, 1, 1, 1, 1, 0,\n",
              "       1, 0, 0, 0, 0, 1, 1, 0, 0, 1, 1, 0, 1, 1, 0, 0, 1, 0, 1, 1, 0, 1,\n",
              "       1, 1, 0, 1, 1, 1, 1, 1, 1, 1, 0, 0, 0, 0, 1, 0, 1, 0, 1, 1, 0, 0,\n",
              "       0, 0, 1, 0, 0, 1, 1, 0, 0, 1, 1, 0, 1, 0, 0, 0, 1, 1, 1, 1, 1, 0,\n",
              "       0, 1, 0, 0, 1, 1, 0, 0, 0, 1, 0, 0, 1, 0, 0, 1, 0, 0, 1, 1, 1, 1,\n",
              "       1, 1, 1, 0, 0, 0, 1, 1, 0, 0, 1, 0, 1, 1, 0, 1, 0, 0, 0, 1, 1, 0,\n",
              "       1, 1, 0, 0, 0, 0, 0, 1, 1, 0, 1, 1, 1, 1, 0, 1, 1, 1, 0, 1, 0, 1,\n",
              "       0, 1, 0, 1, 0, 0, 1, 0, 0, 0, 1, 1, 0, 1, 0, 1, 0, 1, 0, 1, 0, 0,\n",
              "       0, 0, 1, 1, 1, 0, 0, 0, 1, 0, 0, 0, 0, 1, 0, 0, 0, 0, 0, 0, 1, 0,\n",
              "       1, 0, 1, 1, 1, 0, 1, 1, 0, 0, 0, 1, 0, 0, 1, 1, 0, 0, 1, 0, 0, 1,\n",
              "       0, 0, 0, 1, 0, 1, 1, 1, 1, 0, 0, 0, 0, 0, 1, 0, 0, 0, 1, 0, 1, 0,\n",
              "       0, 0, 1, 1, 1, 1, 1, 1, 1, 0, 1, 0, 1, 0, 0, 1, 0, 1, 0, 1, 1, 0,\n",
              "       1, 1, 1, 1, 1, 0, 0, 0, 0, 0, 1, 1, 0, 1, 1, 0, 1, 0, 1, 0, 1, 1,\n",
              "       1, 0, 0, 0, 1, 1, 0, 0, 0, 0, 1, 1, 0, 0, 1, 0, 1, 0, 0, 0, 1, 1,\n",
              "       1, 1, 1, 1, 0, 1, 0, 0, 0, 1, 0, 0, 1, 0, 1, 0, 1, 0, 1, 0, 1, 1,\n",
              "       1, 0, 1, 1, 1, 0, 1, 1, 0, 1, 0, 1, 0, 0, 1, 1, 1, 0, 0, 1, 1, 1,\n",
              "       1, 1, 1, 0, 0, 0, 1, 0, 1, 1, 1, 1, 1, 1, 0, 1, 1, 1, 1, 0, 1, 0,\n",
              "       1, 1, 0, 0, 0, 0, 1, 1, 1, 0, 1, 1, 1, 0, 1, 0, 0, 0, 0, 1, 1, 1,\n",
              "       0, 0, 0, 1, 1, 1, 1, 0, 0, 1, 0, 0, 1, 1, 0, 1, 0, 1, 1, 1, 1, 1,\n",
              "       1, 1, 1, 0, 0, 1, 0, 1, 0, 1, 1, 1, 0, 1, 1, 1, 0, 1, 1, 1, 1, 0,\n",
              "       0, 0, 0, 0, 1, 1, 0, 1, 0, 0])"
            ]
          },
          "metadata": {},
          "execution_count": 63
        }
      ]
    },
    {
      "cell_type": "code",
      "source": [
        "\n",
        "#np_arr = torch_tensor.cpu().detach().numpy()\n",
        "\n",
        "f1_score = f1_score(test_label_tensor.cpu().detach().numpy(), output.cpu().detach().numpy())\n",
        "print(f1_score)"
      ],
      "metadata": {
        "colab": {
          "base_uri": "https://localhost:8080/"
        },
        "id": "Sqd4gUXIQvfN",
        "outputId": "908bad02-87e5-49c5-d382-1aa99716ba7d"
      },
      "execution_count": 67,
      "outputs": [
        {
          "output_type": "stream",
          "name": "stdout",
          "text": [
            "0.6232394366197183\n"
          ]
        }
      ]
    },
    {
      "cell_type": "code",
      "source": [
        "#Create a pickle file of the predicted labels of the cnn to be used for the fusion\n",
        "\n",
        "arrayInput = output #Trial input\n",
        "fileName = \"drive/MyDrive/cnn_output.pkl\"\n",
        "fileObject = open(fileName, 'wb')\n",
        "pkl.dump(arrayInput, fileObject)\n",
        "fileObject.close()"
      ],
      "metadata": {
        "id": "dehmR5ZPQ5fp"
      },
      "execution_count": 74,
      "outputs": []
    },
    {
      "cell_type": "code",
      "source": [
        ""
      ],
      "metadata": {
        "id": "9SG03mfV2s9f"
      },
      "execution_count": null,
      "outputs": []
    }
  ]
}