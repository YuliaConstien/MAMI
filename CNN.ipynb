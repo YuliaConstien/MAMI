{
  "nbformat": 4,
  "nbformat_minor": 0,
  "metadata": {
    "colab": {
      "name": "CNN.ipynb",
      "provenance": [],
      "collapsed_sections": []
    },
    "kernelspec": {
      "name": "python3",
      "display_name": "Python 3"
    },
    "language_info": {
      "name": "python"
    },
    "accelerator": "GPU"
  },
  "cells": [
    {
      "cell_type": "code",
      "execution_count": null,
      "outputs": [],
      "source": [
        "#Import libraries\n",
        "import torch\n",
        "import pandas as pd\n",
        "from PIL import Image\n",
        "import os\n",
        "from tqdm import tqdm\n",
        "import zipfile\n",
        "import torch.nn as nn\n",
        "import torch.nn.functional as F\n",
        "from torch.utils.data import Dataset, DataLoader\n",
        "import numpy as np\n",
        "from sklearn.model_selection import train_test_split\n",
        "from sklearn.metrics import f1_score\n",
        "import pickle as pkl\n",
        "import matplotlib.pyplot as plt\n",
        "from torchvision import transforms"
      ],
      "metadata": {
        "pycharm": {
          "name": "#%%\n"
        },
        "id": "UoR3zL1gblII"
      }
    },
    {
      "cell_type": "code",
      "source": [
        "device = torch.device('cuda' if torch.cuda.is_available() else 'cpu')"
      ],
      "metadata": {
        "id": "TKwn5YR3y1hU"
      },
      "execution_count": null,
      "outputs": []
    },
    {
      "cell_type": "code",
      "source": [
        "#Upload dataset\n",
        "\n",
        "df_training = pd.read_csv('drive/MyDrive/training.csv', sep=\"\\t\") # Put your path to training.csv here\n",
        "df_test = pd.read_csv('drive/MyDrive/trial.csv', sep=\"\\t\") # Put your path to trail.csv here"
      ],
      "metadata": {
        "id": "tVibVoPay8DA"
      },
      "execution_count": null,
      "outputs": []
    },
    {
      "cell_type": "code",
      "source": [
        "#CNN Model\n",
        "\n",
        "class Binary_Classifier(nn.Module):\n",
        "    def __init__(self):\n",
        "        super(Binary_Classifier, self).__init__()\n",
        "        self.conv1 = nn.Conv2d(in_channels=3, out_channels=10, kernel_size=3)\n",
        "        self.conv2 = nn.Conv2d(10, 20, kernel_size=3)\n",
        "        self.conv2_drop = nn.Dropout2d()\n",
        "        self.fc1 = nn.Linear(58320, 1024)\n",
        "        self.fc2 = nn.Linear(1024, 2)\n",
        "\n",
        "    def forward(self, x):\n",
        "        x = F.relu(F.max_pool2d(self.conv1(x), 2))\n",
        "        x = F.relu(F.max_pool2d(self.conv2(x),2))\n",
        "        x = x.view(x.shape[0],-1)\n",
        "        x = F.relu(self.fc1(x))\n",
        "        x = self.fc2(x)\n",
        "        return x\n",
        "\n",
        "#hyper parameters\n",
        "\n",
        "learning_rate = 0.01\n",
        "\n",
        "# Initialize Model , Optimizer, Loss\n",
        "\n",
        "model = Binary_Classifier().to(device)\n",
        "loss_fn = nn.CrossEntropyLoss()\n",
        "optimizer = torch.optim.Adam(model.parameters(), lr=0.001, weight_decay=0.0005)"
      ],
      "metadata": {
        "id": "Gtvs-aVa0lda"
      },
      "execution_count": null,
      "outputs": []
    },
    {
      "cell_type": "code",
      "source": [
        "# Due to the large input, the model is being trained in steps to avoid memory collapsing. It has been trained on the trial and training dataset.\n",
        "\n",
        "#For the training set\n",
        "\n",
        "steps = 10\n",
        "step_training=int(df_training.shape[0]/steps)\n",
        "step_test=int(df_test.shape[0]/steps)\n",
        "\n",
        "for step in range(steps):\n",
        "  input_training = []\n",
        "  label_training = []\n",
        "  img_zip = zipfile.ZipFile('drive/MyDrive/training.zip') # put you path to training.zip here\n",
        "  img_zip.setpassword(b'*MaMiSemEval2022!')\n",
        "\n",
        "  for i, row in tqdm(df_training.iloc[step_training*(step):step_training*(step+1)].iterrows()):\n",
        "      try:\n",
        "          filename = row['file_name']\n",
        "          convert_tensor = transforms.Compose([\n",
        "          transforms.Resize((224, 224)),\n",
        "          transforms.ToTensor()\n",
        "      ])\n",
        "          img = Image.open(img_zip.open('TRAINING/' + filename)) \n",
        "          #img = img.resize((39, 39), Image.ANTIALIAS)\n",
        "          tensor=convert_tensor(img)\n",
        "          if tensor.shape[0] == 3:\n",
        "              input_training.append(tensor)\n",
        "              label_training.append(torch.tensor(row['misogynous'],dtype=torch.long))\n",
        "      except:\n",
        "          print('........................')\n",
        "          continue\n",
        "\n",
        "  #For the trial set\n",
        "  \n",
        "  img_zip = zipfile.ZipFile('drive/MyDrive/trial.zip') # put your path to trial.zip here\n",
        "  img_zip.setpassword(b'*MaMiSemEval2022!')\n",
        "  for i, row in tqdm(df_test.iloc[step_test*step:step_test*(step+1)].iterrows()):\n",
        "      try:\n",
        "          filename = row['file_name']\n",
        "          convert_tensor = transforms.Compose([\n",
        "          transforms.Resize((224, 224)),\n",
        "          transforms.ToTensor()\n",
        "      ])\n",
        "          img = Image.open(img_zip.open('Users/fersiniel/Desktop/MAMI - TO LABEL/TRIAL DATASET/' + filename)) \n",
        "          #img = img.resize((39, 39), Image.ANTIALIAS)\n",
        "          tensor=convert_tensor(img)\n",
        "          if tensor.shape[0] == 3:\n",
        "              input_training.append(tensor)\n",
        "              label_training.append(torch.tensor(row['misogynous'],dtype=torch.long))\n",
        "      except Exception as E:\n",
        "          \n",
        "          print(E)\n",
        "          continue\n",
        "\n",
        "  train_tensor = torch.stack(input_training,0).to(device=device) \n",
        "  label_tensor = torch.stack(label_training,0).to(device=device)\n",
        "  del input_training, label_training\n",
        "  input, input_t, label, label_t = train_test_split(train_tensor, label_tensor, test_size=0.2)\n",
        "  del train_tensor, label_tensor\n",
        "\n",
        "  \n",
        "  class dataset(Dataset):\n",
        "    def __init__(self,x,y):\n",
        "      self.x = x\n",
        "      self.y = y\n",
        "      self.length = self.x.shape[0]\n",
        "\n",
        "    def __getitem__(self,idx):\n",
        "      return self.x[idx],self.y[idx]\n",
        "    def __len__(self):\n",
        "      return self.length\n",
        "  trainset = dataset(input, label)\n",
        " \n",
        "  #DataLoader\n",
        "  \n",
        "  trainloader = DataLoader(trainset,batch_size=32,shuffle=True)\n",
        "\n",
        "\n",
        "  #forward loop\n",
        " \n",
        "  losses = []\n",
        "  accur = []\n",
        "  epochs = 5\n",
        "  acc_val=[]\n",
        "  for i in tqdm(range(epochs)):\n",
        "      for j,(x_train,y_train) in enumerate(trainloader):\n",
        "\n",
        "          #calculate output\n",
        "         \n",
        "          output = model(x_train)\n",
        "\n",
        "          #calculate loss\n",
        "          #loss = loss_fn(output,y_train.reshape(-1,1))\n",
        "          \n",
        "          loss = loss_fn(output.reshape(-1,2),y_train)\n",
        "\n",
        "\n",
        "          #backprop\n",
        "          \n",
        "          optimizer.zero_grad()\n",
        "          loss.backward()\n",
        "          optimizer.step()\n",
        "          \n",
        "          #accuracy\n",
        "          \n",
        "          if j%10 == 0:\n",
        "              with torch.no_grad():\n",
        "                  losses.append(loss)\n",
        "                  acc =(label == torch.argmax(model(input),dim=1)).sum()/label.size()[0]\n",
        "                  acc_t = (label_t == torch.argmax(model(input_t),dim=1)).sum()/label_t.size()[0]\n",
        "                  accur.append(acc)\n",
        "                  acc_val.append(acc_t)\n",
        "                  print(f\"\\nstep: {step}, epoch {i}, loss : {loss}, training accuracy : {acc}, test accuracy : {acc_t}\")"
      ],
      "metadata": {
        "colab": {
          "base_uri": "https://localhost:8080/"
        },
        "id": "abpE4Jq7y-31",
        "outputId": "91c4c7c3-47b4-4540-cc83-f2df0bdd0713"
      },
      "execution_count": null,
      "outputs": [
        {
          "output_type": "stream",
          "name": "stderr",
          "text": [
            "1000it [00:11, 85.74it/s]\n",
            "10it [00:04,  2.06it/s]\n",
            "  0%|          | 0/5 [00:00<?, ?it/s]"
          ]
        },
        {
          "output_type": "stream",
          "name": "stdout",
          "text": [
            "\n",
            "step: 0, epoch 0, loss : 0.6926514506340027, training accuracy : 0.521039605140686, test accuracy : 0.5247524380683899\n",
            "\n",
            "step: 0, epoch 0, loss : 0.8841594457626343, training accuracy : 0.4801980257034302, test accuracy : 0.47524750232696533\n"
          ]
        },
        {
          "output_type": "stream",
          "name": "stderr",
          "text": [
            "\r 20%|██        | 1/5 [00:01<00:04,  1.12s/it]"
          ]
        },
        {
          "output_type": "stream",
          "name": "stdout",
          "text": [
            "\n",
            "step: 0, epoch 0, loss : 0.6653885245323181, training accuracy : 0.6509900689125061, test accuracy : 0.608910858631134\n",
            "\n",
            "step: 0, epoch 1, loss : 0.6690996289253235, training accuracy : 0.6361386179924011, test accuracy : 0.608910858631134\n",
            "\n",
            "step: 0, epoch 1, loss : 0.610276460647583, training accuracy : 0.6262376308441162, test accuracy : 0.594059407711029\n"
          ]
        },
        {
          "output_type": "stream",
          "name": "stderr",
          "text": [
            "\r 40%|████      | 2/5 [00:02<00:02,  1.02it/s]"
          ]
        },
        {
          "output_type": "stream",
          "name": "stdout",
          "text": [
            "\n",
            "step: 0, epoch 1, loss : 0.6189128756523132, training accuracy : 0.719059407711029, test accuracy : 0.603960394859314\n",
            "\n",
            "step: 0, epoch 2, loss : 0.5901327133178711, training accuracy : 0.6274752616882324, test accuracy : 0.5742574334144592\n",
            "\n",
            "step: 0, epoch 2, loss : 0.6086480021476746, training accuracy : 0.7314356565475464, test accuracy : 0.618811845779419\n"
          ]
        },
        {
          "output_type": "stream",
          "name": "stderr",
          "text": [
            "\r 60%|██████    | 3/5 [00:02<00:01,  1.07it/s]"
          ]
        },
        {
          "output_type": "stream",
          "name": "stdout",
          "text": [
            "\n",
            "step: 0, epoch 2, loss : 0.5978139042854309, training accuracy : 0.7896039485931396, test accuracy : 0.6584158539772034\n",
            "\n",
            "step: 0, epoch 3, loss : 0.3334207832813263, training accuracy : 0.8254950642585754, test accuracy : 0.6336633563041687\n",
            "\n",
            "step: 0, epoch 3, loss : 0.4506107568740845, training accuracy : 0.7623762488365173, test accuracy : 0.6534653306007385\n"
          ]
        },
        {
          "output_type": "stream",
          "name": "stderr",
          "text": [
            "\r 80%|████████  | 4/5 [00:03<00:00,  1.09it/s]"
          ]
        },
        {
          "output_type": "stream",
          "name": "stdout",
          "text": [
            "\n",
            "step: 0, epoch 3, loss : 0.40048664808273315, training accuracy : 0.905940592288971, test accuracy : 0.5792078971862793\n",
            "\n",
            "step: 0, epoch 4, loss : 0.3555939495563507, training accuracy : 0.9146039485931396, test accuracy : 0.5742574334144592\n",
            "\n",
            "step: 0, epoch 4, loss : 0.4601652920246124, training accuracy : 0.8910890817642212, test accuracy : 0.514851450920105\n"
          ]
        },
        {
          "output_type": "stream",
          "name": "stderr",
          "text": [
            "100%|██████████| 5/5 [00:04<00:00,  1.07it/s]\n"
          ]
        },
        {
          "output_type": "stream",
          "name": "stdout",
          "text": [
            "\n",
            "step: 0, epoch 4, loss : 0.2792607545852661, training accuracy : 0.8910890817642212, test accuracy : 0.5742574334144592\n"
          ]
        },
        {
          "output_type": "stream",
          "name": "stderr",
          "text": [
            "1000it [00:09, 105.27it/s]\n",
            "10it [00:03,  2.89it/s]\n",
            "  0%|          | 0/5 [00:00<?, ?it/s]"
          ]
        },
        {
          "output_type": "stream",
          "name": "stdout",
          "text": [
            "\n",
            "step: 1, epoch 0, loss : 0.7712947726249695, training accuracy : 0.6290322542190552, test accuracy : 0.6633663177490234\n",
            "\n",
            "step: 1, epoch 0, loss : 0.6473492980003357, training accuracy : 0.6997518539428711, test accuracy : 0.6336633563041687\n"
          ]
        },
        {
          "output_type": "stream",
          "name": "stderr",
          "text": [
            "\r 20%|██        | 1/5 [00:00<00:03,  1.25it/s]"
          ]
        },
        {
          "output_type": "stream",
          "name": "stdout",
          "text": [
            "\n",
            "step: 1, epoch 0, loss : 0.719696581363678, training accuracy : 0.7506203651428223, test accuracy : 0.6138613820075989\n",
            "\n",
            "step: 1, epoch 1, loss : 0.46081486344337463, training accuracy : 0.7320099472999573, test accuracy : 0.6534653306007385\n",
            "\n",
            "step: 1, epoch 1, loss : 0.43352267146110535, training accuracy : 0.8163771629333496, test accuracy : 0.6287128329277039\n"
          ]
        },
        {
          "output_type": "stream",
          "name": "stderr",
          "text": [
            "\r 40%|████      | 2/5 [00:01<00:02,  1.18it/s]"
          ]
        },
        {
          "output_type": "stream",
          "name": "stdout",
          "text": [
            "\n",
            "step: 1, epoch 1, loss : 0.5079813599586487, training accuracy : 0.8548387289047241, test accuracy : 0.6782178282737732\n",
            "\n",
            "step: 1, epoch 2, loss : 0.4350307881832123, training accuracy : 0.8709677457809448, test accuracy : 0.6782178282737732\n",
            "\n",
            "step: 1, epoch 2, loss : 0.35801371932029724, training accuracy : 0.8982630372047424, test accuracy : 0.6534653306007385\n"
          ]
        },
        {
          "output_type": "stream",
          "name": "stderr",
          "text": [
            "\r 60%|██████    | 3/5 [00:02<00:01,  1.16it/s]"
          ]
        },
        {
          "output_type": "stream",
          "name": "stdout",
          "text": [
            "\n",
            "step: 1, epoch 2, loss : 0.3297092914581299, training accuracy : 0.9305210709571838, test accuracy : 0.6287128329277039\n",
            "\n",
            "step: 1, epoch 3, loss : 0.22539645433425903, training accuracy : 0.9429280161857605, test accuracy : 0.6386138796806335\n",
            "\n",
            "step: 1, epoch 3, loss : 0.34494879841804504, training accuracy : 0.9540942907333374, test accuracy : 0.6584158539772034\n"
          ]
        },
        {
          "output_type": "stream",
          "name": "stderr",
          "text": [
            "\r 80%|████████  | 4/5 [00:03<00:00,  1.15it/s]"
          ]
        },
        {
          "output_type": "stream",
          "name": "stdout",
          "text": [
            "\n",
            "step: 1, epoch 3, loss : 0.14432188868522644, training accuracy : 0.9739453792572021, test accuracy : 0.6287128329277039\n",
            "\n",
            "step: 1, epoch 4, loss : 0.10308319330215454, training accuracy : 0.9727047085762024, test accuracy : 0.6485148668289185\n",
            "\n",
            "step: 1, epoch 4, loss : 0.1306219846010208, training accuracy : 0.9863523244857788, test accuracy : 0.603960394859314\n"
          ]
        },
        {
          "output_type": "stream",
          "name": "stderr",
          "text": [
            "100%|██████████| 5/5 [00:04<00:00,  1.15it/s]\n"
          ]
        },
        {
          "output_type": "stream",
          "name": "stdout",
          "text": [
            "\n",
            "step: 1, epoch 4, loss : 0.08297401666641235, training accuracy : 0.981389582157135, test accuracy : 0.6435643434524536\n"
          ]
        },
        {
          "output_type": "stream",
          "name": "stderr",
          "text": [
            "1000it [00:10, 95.86it/s]\n",
            "10it [00:02,  4.20it/s]\n",
            "  0%|          | 0/5 [00:00<?, ?it/s]"
          ]
        },
        {
          "output_type": "stream",
          "name": "stdout",
          "text": [
            "\n",
            "step: 2, epoch 0, loss : 0.8287212252616882, training accuracy : 0.606965184211731, test accuracy : 0.606965184211731\n",
            "\n",
            "step: 2, epoch 0, loss : 0.8961070775985718, training accuracy : 0.7014925479888916, test accuracy : 0.6368159055709839\n"
          ]
        },
        {
          "output_type": "stream",
          "name": "stderr",
          "text": [
            "\r 20%|██        | 1/5 [00:00<00:03,  1.27it/s]"
          ]
        },
        {
          "output_type": "stream",
          "name": "stdout",
          "text": [
            "\n",
            "step: 2, epoch 0, loss : 0.6380597949028015, training accuracy : 0.6691542267799377, test accuracy : 0.6517412662506104\n",
            "\n",
            "step: 2, epoch 1, loss : 0.551551878452301, training accuracy : 0.7139303088188171, test accuracy : 0.6666666269302368\n",
            "\n",
            "step: 2, epoch 1, loss : 0.5291976928710938, training accuracy : 0.7723880410194397, test accuracy : 0.6815920472145081\n"
          ]
        },
        {
          "output_type": "stream",
          "name": "stderr",
          "text": [
            "\r 40%|████      | 2/5 [00:01<00:02,  1.19it/s]"
          ]
        },
        {
          "output_type": "stream",
          "name": "stdout",
          "text": [
            "\n",
            "step: 2, epoch 1, loss : 0.5408046841621399, training accuracy : 0.7997512221336365, test accuracy : 0.6567164063453674\n",
            "\n",
            "step: 2, epoch 2, loss : 0.3694736957550049, training accuracy : 0.7711442708969116, test accuracy : 0.6368159055709839\n",
            "\n",
            "step: 2, epoch 2, loss : 0.4557366669178009, training accuracy : 0.8482586741447449, test accuracy : 0.6666666269302368\n"
          ]
        },
        {
          "output_type": "stream",
          "name": "stderr",
          "text": [
            "\r 60%|██████    | 3/5 [00:02<00:01,  1.16it/s]"
          ]
        },
        {
          "output_type": "stream",
          "name": "stdout",
          "text": [
            "\n",
            "step: 2, epoch 2, loss : 0.40007737278938293, training accuracy : 0.9017412662506104, test accuracy : 0.6517412662506104\n",
            "\n",
            "step: 2, epoch 3, loss : 0.28973865509033203, training accuracy : 0.922885537147522, test accuracy : 0.641791045665741\n",
            "\n",
            "step: 2, epoch 3, loss : 0.2610310912132263, training accuracy : 0.9502487182617188, test accuracy : 0.6517412662506104\n"
          ]
        },
        {
          "output_type": "stream",
          "name": "stderr",
          "text": [
            "\r 80%|████████  | 4/5 [00:03<00:00,  1.15it/s]"
          ]
        },
        {
          "output_type": "stream",
          "name": "stdout",
          "text": [
            "\n",
            "step: 2, epoch 3, loss : 0.2048882395029068, training accuracy : 0.9390547275543213, test accuracy : 0.6815920472145081\n",
            "\n",
            "step: 2, epoch 4, loss : 0.24469567835330963, training accuracy : 0.9129353165626526, test accuracy : 0.5970149040222168\n",
            "\n",
            "step: 2, epoch 4, loss : 0.24720893800258636, training accuracy : 0.9751243591308594, test accuracy : 0.6467661261558533\n"
          ]
        },
        {
          "output_type": "stream",
          "name": "stderr",
          "text": [
            "100%|██████████| 5/5 [00:04<00:00,  1.16it/s]\n"
          ]
        },
        {
          "output_type": "stream",
          "name": "stdout",
          "text": [
            "\n",
            "step: 2, epoch 4, loss : 0.08399218320846558, training accuracy : 0.9776118993759155, test accuracy : 0.6368159055709839\n"
          ]
        },
        {
          "output_type": "stream",
          "name": "stderr",
          "text": [
            "1000it [00:10, 98.20it/s]\n",
            "10it [00:02,  4.10it/s]\n",
            "  0%|          | 0/5 [00:00<?, ?it/s]"
          ]
        },
        {
          "output_type": "stream",
          "name": "stdout",
          "text": [
            "\n",
            "step: 3, epoch 0, loss : 1.0390839576721191, training accuracy : 0.6225247383117676, test accuracy : 0.5841584205627441\n",
            "\n",
            "step: 3, epoch 0, loss : 0.7406087517738342, training accuracy : 0.712871253490448, test accuracy : 0.5891088843345642\n"
          ]
        },
        {
          "output_type": "stream",
          "name": "stderr",
          "text": [
            "\r 20%|██        | 1/5 [00:00<00:03,  1.28it/s]"
          ]
        },
        {
          "output_type": "stream",
          "name": "stdout",
          "text": [
            "\n",
            "step: 3, epoch 0, loss : 0.5026613473892212, training accuracy : 0.771039605140686, test accuracy : 0.6534653306007385\n",
            "\n",
            "step: 3, epoch 1, loss : 0.5301253199577332, training accuracy : 0.7846534252166748, test accuracy : 0.5643564462661743\n",
            "\n",
            "step: 3, epoch 1, loss : 0.5142826437950134, training accuracy : 0.8007425665855408, test accuracy : 0.5841584205627441\n"
          ]
        },
        {
          "output_type": "stream",
          "name": "stderr",
          "text": [
            "\r 40%|████      | 2/5 [00:01<00:02,  1.18it/s]"
          ]
        },
        {
          "output_type": "stream",
          "name": "stdout",
          "text": [
            "\n",
            "step: 3, epoch 1, loss : 0.33226850628852844, training accuracy : 0.858910858631134, test accuracy : 0.6336633563041687\n",
            "\n",
            "step: 3, epoch 2, loss : 0.5169719457626343, training accuracy : 0.8910890817642212, test accuracy : 0.6287128329277039\n",
            "\n",
            "step: 3, epoch 2, loss : 0.2559210956096649, training accuracy : 0.9183168411254883, test accuracy : 0.603960394859314\n"
          ]
        },
        {
          "output_type": "stream",
          "name": "stderr",
          "text": [
            "\r 60%|██████    | 3/5 [00:02<00:01,  1.16it/s]"
          ]
        },
        {
          "output_type": "stream",
          "name": "stdout",
          "text": [
            "\n",
            "step: 3, epoch 2, loss : 0.35554447770118713, training accuracy : 0.9356435537338257, test accuracy : 0.618811845779419\n",
            "\n",
            "step: 3, epoch 3, loss : 0.20516209304332733, training accuracy : 0.9579207897186279, test accuracy : 0.594059407711029\n",
            "\n",
            "step: 3, epoch 3, loss : 0.10308203101158142, training accuracy : 0.9641088843345642, test accuracy : 0.6287128329277039\n"
          ]
        },
        {
          "output_type": "stream",
          "name": "stderr",
          "text": [
            "\r 80%|████████  | 4/5 [00:03<00:00,  1.15it/s]"
          ]
        },
        {
          "output_type": "stream",
          "name": "stdout",
          "text": [
            "\n",
            "step: 3, epoch 3, loss : 0.1810949593782425, training accuracy : 0.9764851331710815, test accuracy : 0.5792078971862793\n",
            "\n",
            "step: 3, epoch 4, loss : 0.16078586876392365, training accuracy : 0.9702970385551453, test accuracy : 0.5891088843345642\n",
            "\n",
            "step: 3, epoch 4, loss : 0.07484381645917892, training accuracy : 0.9863861203193665, test accuracy : 0.5990098714828491\n"
          ]
        },
        {
          "output_type": "stream",
          "name": "stderr",
          "text": [
            "100%|██████████| 5/5 [00:04<00:00,  1.16it/s]\n"
          ]
        },
        {
          "output_type": "stream",
          "name": "stdout",
          "text": [
            "\n",
            "step: 3, epoch 4, loss : 0.08777505904436111, training accuracy : 0.9975247383117676, test accuracy : 0.5990098714828491\n"
          ]
        },
        {
          "output_type": "stream",
          "name": "stderr",
          "text": [
            "1000it [00:10, 91.54it/s]\n",
            "10it [00:02,  3.65it/s]\n",
            "  0%|          | 0/5 [00:00<?, ?it/s]"
          ]
        },
        {
          "output_type": "stream",
          "name": "stdout",
          "text": [
            "\n",
            "step: 4, epoch 0, loss : 1.6196202039718628, training accuracy : 0.582608699798584, test accuracy : 0.5544554591178894\n",
            "\n",
            "step: 4, epoch 0, loss : 0.6668112874031067, training accuracy : 0.662111759185791, test accuracy : 0.5544554591178894\n"
          ]
        },
        {
          "output_type": "stream",
          "name": "stderr",
          "text": [
            "\r 20%|██        | 1/5 [00:00<00:03,  1.25it/s]"
          ]
        },
        {
          "output_type": "stream",
          "name": "stdout",
          "text": [
            "\n",
            "step: 4, epoch 0, loss : 0.6294069886207581, training accuracy : 0.6409937739372253, test accuracy : 0.5495049357414246\n",
            "\n",
            "step: 4, epoch 1, loss : 0.6289740204811096, training accuracy : 0.6844720244407654, test accuracy : 0.5495049357414246\n",
            "\n",
            "step: 4, epoch 1, loss : 0.5319830775260925, training accuracy : 0.7689440846443176, test accuracy : 0.5544554591178894\n"
          ]
        },
        {
          "output_type": "stream",
          "name": "stderr",
          "text": [
            "\r 40%|████      | 2/5 [00:01<00:02,  1.18it/s]"
          ]
        },
        {
          "output_type": "stream",
          "name": "stdout",
          "text": [
            "\n",
            "step: 4, epoch 1, loss : 0.4572959542274475, training accuracy : 0.8322980999946594, test accuracy : 0.5346534848213196\n",
            "\n",
            "step: 4, epoch 2, loss : 0.45205432176589966, training accuracy : 0.8459627032279968, test accuracy : 0.5297029614448547\n",
            "\n",
            "step: 4, epoch 2, loss : 0.34144270420074463, training accuracy : 0.8745341300964355, test accuracy : 0.5247524380683899\n"
          ]
        },
        {
          "output_type": "stream",
          "name": "stderr",
          "text": [
            "\r 60%|██████    | 3/5 [00:02<00:01,  1.16it/s]"
          ]
        },
        {
          "output_type": "stream",
          "name": "stdout",
          "text": [
            "\n",
            "step: 4, epoch 2, loss : 0.31397417187690735, training accuracy : 0.9254658222198486, test accuracy : 0.5247524380683899\n",
            "\n",
            "step: 4, epoch 3, loss : 0.14181625843048096, training accuracy : 0.9366459250450134, test accuracy : 0.5247524380683899\n",
            "\n",
            "step: 4, epoch 3, loss : 0.2141212821006775, training accuracy : 0.9552794694900513, test accuracy : 0.5396039485931396\n"
          ]
        },
        {
          "output_type": "stream",
          "name": "stderr",
          "text": [
            "\r 80%|████████  | 4/5 [00:03<00:00,  1.15it/s]"
          ]
        },
        {
          "output_type": "stream",
          "name": "stdout",
          "text": [
            "\n",
            "step: 4, epoch 3, loss : 0.19770309329032898, training accuracy : 0.9739130139350891, test accuracy : 0.5544554591178894\n",
            "\n",
            "step: 4, epoch 4, loss : 0.09716778993606567, training accuracy : 0.98385089635849, test accuracy : 0.5594059228897095\n",
            "\n",
            "step: 4, epoch 4, loss : 0.061793550848960876, training accuracy : 0.9863353967666626, test accuracy : 0.5693069100379944\n"
          ]
        },
        {
          "output_type": "stream",
          "name": "stderr",
          "text": [
            "100%|██████████| 5/5 [00:04<00:00,  1.15it/s]\n"
          ]
        },
        {
          "output_type": "stream",
          "name": "stdout",
          "text": [
            "\n",
            "step: 4, epoch 4, loss : 0.16928306221961975, training accuracy : 0.9900621175765991, test accuracy : 0.5544554591178894\n"
          ]
        },
        {
          "output_type": "stream",
          "name": "stderr",
          "text": [
            "1000it [00:09, 105.95it/s]\n",
            "10it [00:02,  3.62it/s]\n",
            "  0%|          | 0/5 [00:00<?, ?it/s]"
          ]
        },
        {
          "output_type": "stream",
          "name": "stdout",
          "text": [
            "\n",
            "step: 5, epoch 0, loss : 1.6310347318649292, training accuracy : 0.5632754564285278, test accuracy : 0.5594059228897095\n",
            "\n",
            "step: 5, epoch 0, loss : 0.8557531833648682, training accuracy : 0.6153846383094788, test accuracy : 0.5198019742965698\n"
          ]
        },
        {
          "output_type": "stream",
          "name": "stderr",
          "text": [
            "\r 20%|██        | 1/5 [00:00<00:03,  1.28it/s]"
          ]
        },
        {
          "output_type": "stream",
          "name": "stdout",
          "text": [
            "\n",
            "step: 5, epoch 0, loss : 0.6483020186424255, training accuracy : 0.6972704529762268, test accuracy : 0.5643564462661743\n",
            "\n",
            "step: 5, epoch 1, loss : 0.6199117302894592, training accuracy : 0.7394540905952454, test accuracy : 0.5693069100379944\n",
            "\n",
            "step: 5, epoch 1, loss : 0.5325444936752319, training accuracy : 0.826302707195282, test accuracy : 0.594059407711029\n"
          ]
        },
        {
          "output_type": "stream",
          "name": "stderr",
          "text": [
            "\r 40%|████      | 2/5 [00:01<00:02,  1.19it/s]"
          ]
        },
        {
          "output_type": "stream",
          "name": "stdout",
          "text": [
            "\n",
            "step: 5, epoch 1, loss : 0.5526155233383179, training accuracy : 0.8610422015190125, test accuracy : 0.5693069100379944\n",
            "\n",
            "step: 5, epoch 2, loss : 0.44869476556777954, training accuracy : 0.8895781636238098, test accuracy : 0.6138613820075989\n",
            "\n",
            "step: 5, epoch 2, loss : 0.38537755608558655, training accuracy : 0.9081885814666748, test accuracy : 0.608910858631134\n"
          ]
        },
        {
          "output_type": "stream",
          "name": "stderr",
          "text": [
            "\r 60%|██████    | 3/5 [00:02<00:01,  1.16it/s]"
          ]
        },
        {
          "output_type": "stream",
          "name": "stdout",
          "text": [
            "\n",
            "step: 5, epoch 2, loss : 0.370879203081131, training accuracy : 0.9478908181190491, test accuracy : 0.5742574334144592\n",
            "\n",
            "step: 5, epoch 3, loss : 0.20691917836666107, training accuracy : 0.9478908181190491, test accuracy : 0.608910858631134\n",
            "\n",
            "step: 5, epoch 3, loss : 0.19012440741062164, training accuracy : 0.9466500878334045, test accuracy : 0.5495049357414246\n"
          ]
        },
        {
          "output_type": "stream",
          "name": "stderr",
          "text": [
            "\r 80%|████████  | 4/5 [00:03<00:00,  1.15it/s]"
          ]
        },
        {
          "output_type": "stream",
          "name": "stdout",
          "text": [
            "\n",
            "step: 5, epoch 3, loss : 0.23123344779014587, training accuracy : 0.9751861095428467, test accuracy : 0.6287128329277039\n",
            "\n",
            "step: 5, epoch 4, loss : 0.08822731673717499, training accuracy : 0.9863523244857788, test accuracy : 0.6237623691558838\n",
            "\n",
            "step: 5, epoch 4, loss : 0.039039287716150284, training accuracy : 0.9826302528381348, test accuracy : 0.6138613820075989\n"
          ]
        },
        {
          "output_type": "stream",
          "name": "stderr",
          "text": [
            "100%|██████████| 5/5 [00:04<00:00,  1.16it/s]\n"
          ]
        },
        {
          "output_type": "stream",
          "name": "stdout",
          "text": [
            "\n",
            "step: 5, epoch 4, loss : 0.11496381461620331, training accuracy : 0.9900744557380676, test accuracy : 0.5792078971862793\n"
          ]
        },
        {
          "output_type": "stream",
          "name": "stderr",
          "text": [
            "1000it [00:10, 91.24it/s]\n",
            "10it [00:02,  4.48it/s]\n",
            "  0%|          | 0/5 [00:00<?, ?it/s]"
          ]
        },
        {
          "output_type": "stream",
          "name": "stdout",
          "text": [
            "\n",
            "step: 6, epoch 0, loss : 0.9678224921226501, training accuracy : 0.5873606204986572, test accuracy : 0.6584158539772034\n",
            "\n",
            "step: 6, epoch 0, loss : 0.8091996908187866, training accuracy : 0.6765799522399902, test accuracy : 0.5891088843345642\n"
          ]
        },
        {
          "output_type": "stream",
          "name": "stderr",
          "text": [
            "\r 20%|██        | 1/5 [00:00<00:03,  1.26it/s]"
          ]
        },
        {
          "output_type": "stream",
          "name": "stdout",
          "text": [
            "\n",
            "step: 6, epoch 0, loss : 0.6607193350791931, training accuracy : 0.7583643198013306, test accuracy : 0.6534653306007385\n",
            "\n",
            "step: 6, epoch 1, loss : 0.5622081756591797, training accuracy : 0.8104089498519897, test accuracy : 0.6534653306007385\n",
            "\n",
            "step: 6, epoch 1, loss : 0.425468772649765, training accuracy : 0.8661710023880005, test accuracy : 0.6485148668289185\n"
          ]
        },
        {
          "output_type": "stream",
          "name": "stderr",
          "text": [
            "\r 40%|████      | 2/5 [00:01<00:02,  1.18it/s]"
          ]
        },
        {
          "output_type": "stream",
          "name": "stdout",
          "text": [
            "\n",
            "step: 6, epoch 1, loss : 0.489128053188324, training accuracy : 0.9169764518737793, test accuracy : 0.6683168411254883\n",
            "\n",
            "step: 6, epoch 2, loss : 0.25857922434806824, training accuracy : 0.938042163848877, test accuracy : 0.6683168411254883\n",
            "\n",
            "step: 6, epoch 2, loss : 0.2519437372684479, training accuracy : 0.9479554295539856, test accuracy : 0.6435643434524536\n"
          ]
        },
        {
          "output_type": "stream",
          "name": "stderr",
          "text": [
            "\r 60%|██████    | 3/5 [00:02<00:01,  1.16it/s]"
          ]
        },
        {
          "output_type": "stream",
          "name": "stdout",
          "text": [
            "\n",
            "step: 6, epoch 2, loss : 0.31396448612213135, training accuracy : 0.9702602624893188, test accuracy : 0.6138613820075989\n",
            "\n",
            "step: 6, epoch 3, loss : 0.12365489453077316, training accuracy : 0.9764560461044312, test accuracy : 0.6485148668289185\n",
            "\n",
            "step: 6, epoch 3, loss : 0.09642590582370758, training accuracy : 0.9851301312446594, test accuracy : 0.6287128329277039\n"
          ]
        },
        {
          "output_type": "stream",
          "name": "stderr",
          "text": [
            "\r 80%|████████  | 4/5 [00:03<00:00,  1.15it/s]"
          ]
        },
        {
          "output_type": "stream",
          "name": "stdout",
          "text": [
            "\n",
            "step: 6, epoch 3, loss : 0.17111772298812866, training accuracy : 0.9814126491546631, test accuracy : 0.5891088843345642\n",
            "\n",
            "step: 6, epoch 4, loss : 0.10152815282344818, training accuracy : 0.9913259148597717, test accuracy : 0.6138613820075989\n",
            "\n",
            "step: 6, epoch 4, loss : 0.020245468243956566, training accuracy : 0.9888476133346558, test accuracy : 0.6336633563041687\n"
          ]
        },
        {
          "output_type": "stream",
          "name": "stderr",
          "text": [
            "100%|██████████| 5/5 [00:04<00:00,  1.15it/s]\n"
          ]
        },
        {
          "output_type": "stream",
          "name": "stdout",
          "text": [
            "\n",
            "step: 6, epoch 4, loss : 0.1864299178123474, training accuracy : 0.9913259148597717, test accuracy : 0.6435643434524536\n"
          ]
        },
        {
          "output_type": "stream",
          "name": "stderr",
          "text": [
            "1000it [00:13, 73.49it/s]\n",
            "10it [00:02,  4.06it/s]\n",
            "  0%|          | 0/5 [00:00<?, ?it/s]"
          ]
        },
        {
          "output_type": "stream",
          "name": "stdout",
          "text": [
            "\n",
            "step: 7, epoch 0, loss : 0.8500432372093201, training accuracy : 0.5792078971862793, test accuracy : 0.594059407711029\n",
            "\n",
            "step: 7, epoch 0, loss : 0.8958759903907776, training accuracy : 0.6633663177490234, test accuracy : 0.5841584205627441\n"
          ]
        },
        {
          "output_type": "stream",
          "name": "stderr",
          "text": [
            "\r 20%|██        | 1/5 [00:00<00:03,  1.27it/s]"
          ]
        },
        {
          "output_type": "stream",
          "name": "stdout",
          "text": [
            "\n",
            "step: 7, epoch 0, loss : 0.7082865238189697, training accuracy : 0.7660890817642212, test accuracy : 0.5990098714828491\n",
            "\n",
            "step: 7, epoch 1, loss : 0.4757677912712097, training accuracy : 0.8452970385551453, test accuracy : 0.5990098714828491\n",
            "\n",
            "step: 7, epoch 1, loss : 0.4462222754955292, training accuracy : 0.8836633563041687, test accuracy : 0.5742574334144592\n"
          ]
        },
        {
          "output_type": "stream",
          "name": "stderr",
          "text": [
            "\r 40%|████      | 2/5 [00:01<00:02,  1.19it/s]"
          ]
        },
        {
          "output_type": "stream",
          "name": "stdout",
          "text": [
            "\n",
            "step: 7, epoch 1, loss : 0.3287660777568817, training accuracy : 0.9306930303573608, test accuracy : 0.5693069100379944\n",
            "\n",
            "step: 7, epoch 2, loss : 0.21523195505142212, training accuracy : 0.9517326354980469, test accuracy : 0.5891088843345642\n",
            "\n",
            "step: 7, epoch 2, loss : 0.2038876712322235, training accuracy : 0.9603960514068604, test accuracy : 0.5643564462661743\n"
          ]
        },
        {
          "output_type": "stream",
          "name": "stderr",
          "text": [
            "\r 60%|██████    | 3/5 [00:02<00:01,  1.16it/s]"
          ]
        },
        {
          "output_type": "stream",
          "name": "stdout",
          "text": [
            "\n",
            "step: 7, epoch 2, loss : 0.1666523516178131, training accuracy : 0.983910858631134, test accuracy : 0.5643564462661743\n",
            "\n",
            "step: 7, epoch 3, loss : 0.18386462330818176, training accuracy : 0.9814356565475464, test accuracy : 0.5693069100379944\n",
            "\n",
            "step: 7, epoch 3, loss : 0.09533017873764038, training accuracy : 0.9851484894752502, test accuracy : 0.5891088843345642\n"
          ]
        },
        {
          "output_type": "stream",
          "name": "stderr",
          "text": [
            "\r 80%|████████  | 4/5 [00:03<00:00,  1.15it/s]"
          ]
        },
        {
          "output_type": "stream",
          "name": "stdout",
          "text": [
            "\n",
            "step: 7, epoch 3, loss : 0.13799862563610077, training accuracy : 0.9913366436958313, test accuracy : 0.5594059228897095\n",
            "\n",
            "step: 7, epoch 4, loss : 0.02016475610435009, training accuracy : 0.9975247383117676, test accuracy : 0.5742574334144592\n",
            "\n",
            "step: 7, epoch 4, loss : 0.03475828841328621, training accuracy : 1.0, test accuracy : 0.5594059228897095\n"
          ]
        },
        {
          "output_type": "stream",
          "name": "stderr",
          "text": [
            "100%|██████████| 5/5 [00:04<00:00,  1.16it/s]\n"
          ]
        },
        {
          "output_type": "stream",
          "name": "stdout",
          "text": [
            "\n",
            "step: 7, epoch 4, loss : 0.043745994567871094, training accuracy : 0.9975247383117676, test accuracy : 0.5594059228897095\n"
          ]
        },
        {
          "output_type": "stream",
          "name": "stderr",
          "text": [
            "1000it [00:10, 98.25it/s]\n",
            "10it [00:02,  3.78it/s]\n",
            "  0%|          | 0/5 [00:00<?, ?it/s]"
          ]
        },
        {
          "output_type": "stream",
          "name": "stdout",
          "text": [
            "\n",
            "step: 8, epoch 0, loss : 1.1336966753005981, training accuracy : 0.5853960514068604, test accuracy : 0.6633663177490234\n",
            "\n",
            "step: 8, epoch 0, loss : 0.8263741135597229, training accuracy : 0.7153465151786804, test accuracy : 0.6336633563041687\n"
          ]
        },
        {
          "output_type": "stream",
          "name": "stderr",
          "text": [
            "\r 20%|██        | 1/5 [00:00<00:03,  1.26it/s]"
          ]
        },
        {
          "output_type": "stream",
          "name": "stdout",
          "text": [
            "\n",
            "step: 8, epoch 0, loss : 0.6850358247756958, training accuracy : 0.7883663177490234, test accuracy : 0.6435643434524536\n",
            "\n",
            "step: 8, epoch 1, loss : 0.5658539533615112, training accuracy : 0.780940592288971, test accuracy : 0.608910858631134\n",
            "\n",
            "step: 8, epoch 1, loss : 0.43617886304855347, training accuracy : 0.8849009871482849, test accuracy : 0.6633663177490234\n"
          ]
        },
        {
          "output_type": "stream",
          "name": "stderr",
          "text": [
            "\r 40%|████      | 2/5 [00:01<00:02,  1.18it/s]"
          ]
        },
        {
          "output_type": "stream",
          "name": "stdout",
          "text": [
            "\n",
            "step: 8, epoch 1, loss : 0.3421081304550171, training accuracy : 0.9232673048973083, test accuracy : 0.6534653306007385\n",
            "\n",
            "step: 8, epoch 2, loss : 0.18129685521125793, training accuracy : 0.9529702663421631, test accuracy : 0.618811845779419\n",
            "\n",
            "step: 8, epoch 2, loss : 0.16601896286010742, training accuracy : 0.9616336226463318, test accuracy : 0.6584158539772034\n"
          ]
        },
        {
          "output_type": "stream",
          "name": "stderr",
          "text": [
            "\r 60%|██████    | 3/5 [00:02<00:01,  1.16it/s]"
          ]
        },
        {
          "output_type": "stream",
          "name": "stdout",
          "text": [
            "\n",
            "step: 8, epoch 2, loss : 0.17929044365882874, training accuracy : 0.9764851331710815, test accuracy : 0.6633663177490234\n",
            "\n",
            "step: 8, epoch 3, loss : 0.08449623733758926, training accuracy : 0.9900990128517151, test accuracy : 0.6386138796806335\n",
            "\n",
            "step: 8, epoch 3, loss : 0.06517555564641953, training accuracy : 0.9900990128517151, test accuracy : 0.6782178282737732\n"
          ]
        },
        {
          "output_type": "stream",
          "name": "stderr",
          "text": [
            "\r 80%|████████  | 4/5 [00:03<00:00,  1.15it/s]"
          ]
        },
        {
          "output_type": "stream",
          "name": "stdout",
          "text": [
            "\n",
            "step: 8, epoch 3, loss : 0.037924788892269135, training accuracy : 0.9925742149353027, test accuracy : 0.6386138796806335\n",
            "\n",
            "step: 8, epoch 4, loss : 0.02891339361667633, training accuracy : 0.9987623691558838, test accuracy : 0.6435643434524536\n",
            "\n",
            "step: 8, epoch 4, loss : 0.03654035925865173, training accuracy : 0.9975247383117676, test accuracy : 0.6287128329277039\n"
          ]
        },
        {
          "output_type": "stream",
          "name": "stderr",
          "text": [
            "100%|██████████| 5/5 [00:04<00:00,  1.15it/s]\n"
          ]
        },
        {
          "output_type": "stream",
          "name": "stdout",
          "text": [
            "\n",
            "step: 8, epoch 4, loss : 0.09061099588871002, training accuracy : 0.9925742149353027, test accuracy : 0.6732673048973083\n"
          ]
        },
        {
          "output_type": "stream",
          "name": "stderr",
          "text": [
            "1000it [00:09, 105.25it/s]\n",
            "10it [00:02,  4.44it/s]\n",
            "  0%|          | 0/5 [00:00<?, ?it/s]"
          ]
        },
        {
          "output_type": "stream",
          "name": "stdout",
          "text": [
            "\n",
            "step: 9, epoch 0, loss : 1.0474523305892944, training accuracy : 0.5848823189735413, test accuracy : 0.603960394859314\n",
            "\n",
            "step: 9, epoch 0, loss : 0.5853137969970703, training accuracy : 0.729863703250885, test accuracy : 0.5445544719696045\n"
          ]
        },
        {
          "output_type": "stream",
          "name": "stderr",
          "text": [
            "\r 20%|██        | 1/5 [00:00<00:03,  1.26it/s]"
          ]
        },
        {
          "output_type": "stream",
          "name": "stdout",
          "text": [
            "\n",
            "step: 9, epoch 0, loss : 0.5527871251106262, training accuracy : 0.8500619530677795, test accuracy : 0.5891088843345642\n",
            "\n",
            "step: 9, epoch 1, loss : 0.3990243971347809, training accuracy : 0.8921933174133301, test accuracy : 0.5643564462661743\n",
            "\n",
            "step: 9, epoch 1, loss : 0.3489915728569031, training accuracy : 0.938042163848877, test accuracy : 0.594059407711029\n"
          ]
        },
        {
          "output_type": "stream",
          "name": "stderr",
          "text": [
            "\r 40%|████      | 2/5 [00:01<00:02,  1.18it/s]"
          ]
        },
        {
          "output_type": "stream",
          "name": "stdout",
          "text": [
            "\n",
            "step: 9, epoch 1, loss : 0.27936187386512756, training accuracy : 0.9776951670646667, test accuracy : 0.5693069100379944\n",
            "\n",
            "step: 9, epoch 2, loss : 0.1395372897386551, training accuracy : 0.9863693118095398, test accuracy : 0.5643564462661743\n",
            "\n",
            "step: 9, epoch 2, loss : 0.07204487174749374, training accuracy : 0.9863693118095398, test accuracy : 0.5891088843345642\n"
          ]
        },
        {
          "output_type": "stream",
          "name": "stderr",
          "text": [
            "\r 60%|██████    | 3/5 [00:02<00:01,  1.16it/s]"
          ]
        },
        {
          "output_type": "stream",
          "name": "stdout",
          "text": [
            "\n",
            "step: 9, epoch 2, loss : 0.14858964085578918, training accuracy : 0.9987608790397644, test accuracy : 0.5841584205627441\n",
            "\n",
            "step: 9, epoch 3, loss : 0.03426000475883484, training accuracy : 0.997521698474884, test accuracy : 0.5891088843345642\n",
            "\n",
            "step: 9, epoch 3, loss : 0.03056998737156391, training accuracy : 0.9962825775146484, test accuracy : 0.5693069100379944\n"
          ]
        },
        {
          "output_type": "stream",
          "name": "stderr",
          "text": [
            "\r 80%|████████  | 4/5 [00:03<00:00,  1.15it/s]"
          ]
        },
        {
          "output_type": "stream",
          "name": "stdout",
          "text": [
            "\n",
            "step: 9, epoch 3, loss : 0.03206696733832359, training accuracy : 0.9987608790397644, test accuracy : 0.5891088843345642\n",
            "\n",
            "step: 9, epoch 4, loss : 0.008630191907286644, training accuracy : 1.0, test accuracy : 0.5693069100379944\n",
            "\n",
            "step: 9, epoch 4, loss : 0.0074251797050237656, training accuracy : 0.9987608790397644, test accuracy : 0.5445544719696045\n"
          ]
        },
        {
          "output_type": "stream",
          "name": "stderr",
          "text": [
            "100%|██████████| 5/5 [00:04<00:00,  1.15it/s]"
          ]
        },
        {
          "output_type": "stream",
          "name": "stdout",
          "text": [
            "\n",
            "step: 9, epoch 4, loss : 0.01673254370689392, training accuracy : 1.0, test accuracy : 0.5841584205627441\n"
          ]
        },
        {
          "output_type": "stream",
          "name": "stderr",
          "text": [
            "\n"
          ]
        }
      ]
    },
    {
      "cell_type": "markdown",
      "source": [
        "# Test"
      ],
      "metadata": {
        "id": "LgOsHV8v7A6g"
      }
    },
    {
      "cell_type": "code",
      "source": [
        "#Upoad and read test data\n",
        "img_zip = zipfile.ZipFile('test.zip') # put your path to test.zip here\n",
        "img_zip.setpassword(b'*MaMiSemEval2022!')\n",
        "df_test = pd.read_csv('test_labels.txt', delimiter=\"\\t\", header=None) # put your path to test_labels.txt here"
      ],
      "metadata": {
        "id": "JndprTxw7Aah"
      },
      "execution_count": null,
      "outputs": []
    },
    {
      "cell_type": "code",
      "source": [
        "#Pre-processing test data\n",
        "input = []\n",
        "label = []\n",
        "\n",
        "for i, row in tqdm(df_test.iterrows()):\n",
        "    try:\n",
        "        filename = row['file_name']\n",
        "        convert_tensor = transforms.Compose([\n",
        "        transforms.Resize((224, 224)),\n",
        "        transforms.ToTensor()\n",
        "    ])\n",
        "\n",
        "         \n",
        "        \n",
        "        img = Image.open(img_zip.open('test/' + filename)) \n",
        "        \n",
        "        tensor=convert_tensor(img)\n",
        "        if tensor.shape[0] == 3:\n",
        "            input.append(tensor)\n",
        "            label.append(torch.tensor(row['misogynous'],dtype=torch.long))\n",
        "    except Exception as e:\n",
        "        print(e)\n",
        "        continue"
      ],
      "metadata": {
        "colab": {
          "base_uri": "https://localhost:8080/"
        },
        "id": "g3TUbW704qei",
        "outputId": "35eeb02e-2c82-4655-9668-83d0c857668d"
      },
      "execution_count": null,
      "outputs": [
        {
          "output_type": "stream",
          "name": "stderr",
          "text": [
            "1000it [04:08,  4.02it/s]\n"
          ]
        }
      ]
    },
    {
      "cell_type": "code",
      "source": [
        "test_tensor = torch.stack(input,0).to(device=device) \n",
        "test_label_tensor = torch.stack(label,0).to(device=device)"
      ],
      "metadata": {
        "id": "nELkrXQ_B6sB"
      },
      "execution_count": null,
      "outputs": []
    },
    {
      "cell_type": "code",
      "source": [
        "output = torch.argmax(model(test_tensor),dim=1)"
      ],
      "metadata": {
        "id": "5vg1Sm95CKkA"
      },
      "execution_count": null,
      "outputs": []
    },
    {
      "cell_type": "code",
      "source": [
        "output.shape"
      ],
      "metadata": {
        "colab": {
          "base_uri": "https://localhost:8080/"
        },
        "id": "EV1w3HSWKo62",
        "outputId": "64fec4c7-c807-4924-ba3b-a128f5dfdf27"
      },
      "execution_count": null,
      "outputs": [
        {
          "output_type": "execute_result",
          "data": {
            "text/plain": [
              "torch.Size([1000])"
            ]
          },
          "metadata": {},
          "execution_count": 19
        }
      ]
    },
    {
      "cell_type": "code",
      "source": [
        "#Create a pickle file of the predicted labels of the cnn to be used for the fusion\n",
        "\n",
        "arrayInput = output #Trial input\n",
        "fileName = \"cnn_output.pkl\"\n",
        "fileObject = open(fileName, 'wb')\n",
        "pkl.dump(arrayInput, fileObject)\n",
        "fileObject.close()"
      ],
      "metadata": {
        "id": "dehmR5ZPQ5fp"
      },
      "execution_count": null,
      "outputs": []
    },
    {
      "cell_type": "code",
      "source": [
        ""
      ],
      "metadata": {
        "id": "Z0FIQxh8DM28"
      },
      "execution_count": null,
      "outputs": []
    }
  ]
}